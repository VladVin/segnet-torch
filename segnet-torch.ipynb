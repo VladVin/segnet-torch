{
 "cells": [
  {
   "cell_type": "code",
   "execution_count": null,
   "metadata": {
    "collapsed": false
   },
   "outputs": [],
   "source": [
    "require 'image'"
   ]
  },
  {
   "cell_type": "code",
   "execution_count": 1,
   "metadata": {
    "collapsed": true
   },
   "outputs": [],
   "source": [
    "require 'torch'\n",
    "require 'paths'\n",
    "require 'optim'\n",
    "require 'nn'\n",
    "\n",
    "DataLoader = require 'dataloader'\n",
    "models = require 'models/init'\n",
    "Trainer = require 'train'\n",
    "opts = require 'opts'\n",
    "checkpoints = require 'checkpoints'\n",
    "\n",
    "torch.setdefaulttensortype('torch.FloatTensor')"
   ]
  },
  {
   "cell_type": "code",
   "execution_count": 36,
   "metadata": {
    "collapsed": false
   },
   "outputs": [
    {
     "data": {
      "text/plain": [
       "{\n",
       "  cudnn : fastest\n",
       "  LR : 0.1\n",
       "  nThreads : 2\n",
       "  nClasses : 14\n",
       "  batchSize : 1\n",
       "  testOnly : false\n",
       "  netType : segnet\n",
       "  resetClassifier : false\n",
       "  optimState : none\n",
       "  gen : gen\n",
       "  nGPU : 1\n",
       "  imgH : 240\n",
       "  data : \n",
       "  momentum : 0.9\n",
       "  dataset : camvid\n",
       "  epochNumber : 1\n",
       "  manualSeed : 0\n",
       "  resume : none\n",
       "  weightDecay : 0.0001\n",
       "  nEpochs : 10\n",
       "  imgW : 320\n",
       "  shareGradInput : false\n",
       "  backend : cudnn\n",
       "  tenCrop : false\n",
       "  retrain : none\n",
       "}\n"
      ]
     },
     "execution_count": 36,
     "metadata": {},
     "output_type": "execute_result"
    }
   ],
   "source": [
    "opt = opts.parse('')"
   ]
  },
  {
   "cell_type": "code",
   "execution_count": 42,
   "metadata": {
    "collapsed": false
   },
   "outputs": [],
   "source": [
    "opt.data = '/home/srv/hd1/citiscapes/CamVid_512x1024'\n",
    "opt.LR = 0.001\n",
    "opt.batchSize = 4"
   ]
  },
  {
   "cell_type": "code",
   "execution_count": 38,
   "metadata": {
    "collapsed": true
   },
   "outputs": [],
   "source": [
    "torch.setnumthreads(4)\n",
    "opt.nThreads = 4"
   ]
  },
  {
   "cell_type": "code",
   "execution_count": 39,
   "metadata": {
    "collapsed": true
   },
   "outputs": [],
   "source": [
    "torch.manualSeed(opt.manualSeed)\n",
    "cutorch.manualSeedAll(opt.manualSeed)"
   ]
  },
  {
   "cell_type": "code",
   "execution_count": 4,
   "metadata": {
    "collapsed": false
   },
   "outputs": [
    {
     "data": {
      "text/plain": [
       "=> Creating model from file: models/segnet.lua\t\n"
      ]
     },
     "execution_count": 4,
     "metadata": {},
     "output_type": "execute_result"
    }
   ],
   "source": [
    "model, criterion = models.setup(opt, None)"
   ]
  },
  {
   "cell_type": "code",
   "execution_count": 5,
   "metadata": {
    "collapsed": false
   },
   "outputs": [
    {
     "data": {
      "text/plain": [
       "nn.Sequential {\n",
       "  [input -> (1) -> (2) -> output]\n",
       "  (1): nn.Sequential {\n",
       "    [input -> (1) -> (2) -> (3) -> (4) -> (5) -> (6) -> (7) -> (8) -> (9) -> (10) -> (11) -> (12) -> (13) -> (14) -> (15) -> (16) -> (17) -> (18) -> (19) -> (20) -> (21) -> (22) -> (23) -> (24) -> (25) -> (26) -> (27) -> (28) -> (29) -> (30) -> (31) -> (32) -> (33) -> (34) -> (35) -> (36) -> (37) -> (38) -> (39) -> (40) -> (41) -> (42) -> (43) -> (44) -> output]\n",
       "    (1): nn.SpatialConvolution(3 -> 64, 3x3, 1,1, 1,1)\n",
       "    (2): nn.SpatialBatchNormalization\n",
       "    (3): nn.ReLU\n",
       "    (4): nn.SpatialConvolution(64 -> 64, 3x3, 1,1, 1,1)\n",
       "    (5): nn.SpatialBatchNormalization\n",
       "    (6): nn.ReLU\n",
       "    (7): nn.SpatialMaxPooling(2x2, 2,2)\n",
       "    (8): nn.SpatialConvolution(64 -> 128, 3x3, 1,1, 1,1)\n",
       "    (9): nn.SpatialBatchNormalization\n",
       "    (10): nn.ReLU\n",
       "    (11): nn.SpatialConvolution(128 -> 128, 3x3, 1,1, 1,1)\n",
       "    (12): nn.SpatialBatchNormalization\n",
       "    (13): nn.ReLU\n",
       "    (14): nn.SpatialMaxPooling(2x2, 2,2)\n",
       "    (15): nn.SpatialConvolution(128 -> 256, 3x3, 1,1, 1,1)\n",
       "    (16): nn.SpatialBatchNormalization\n",
       "    (17): nn.ReLU\n",
       "    (18): nn.SpatialConvolution(256 -> 256, 3x3, 1,1, 1,1)\n",
       "    (19): nn.SpatialBatchNormalization\n",
       "    (20): nn.ReLU\n",
       "    (21): nn.SpatialConvolution(256 -> 256, 3x3, 1,1, 1,1)\n",
       "    (22): nn.SpatialBatchNormalization\n",
       "    (23): nn.ReLU\n",
       "    (24): nn.SpatialMaxPooling(2x2, 2,2)\n",
       "    (25): nn.SpatialConvolution(256 -> 512, 3x3, 1,1, 1,1)\n",
       "    (26): nn.SpatialBatchNormalization\n",
       "    (27): nn.ReLU\n",
       "    (28): nn.SpatialConvolution(512 -> 512, 3x3, 1,1, 1,1)\n",
       "    (29): nn.SpatialBatchNormalization\n",
       "    (30): nn.ReLU\n",
       "    (31): nn.SpatialConvolution(512 -> 512, 3x3, 1,1, 1,1)\n",
       "    (32): nn.SpatialBatchNormalization\n",
       "    (33): nn.ReLU\n",
       "    (34): nn.SpatialMaxPooling(2x2, 2,2)\n",
       "    (35): nn.SpatialConvolution(512 -> 512, 3x3, 1,1, 1,1)\n",
       "    (36): nn.SpatialBatchNormalization\n",
       "    (37): nn.ReLU\n",
       "    (38): nn.SpatialConvolution(512 -> 512, 3x3, 1,1, 1,1)\n",
       "    (39): nn.SpatialBatchNormalization\n",
       "    (40): nn.ReLU\n",
       "    (41): nn.SpatialConvolution(512 -> 512, 3x3, 1,1, 1,1)\n",
       "    (42): nn.SpatialBatchNormalization\n",
       "    (43): nn.ReLU\n",
       "    (44): nn.SpatialMaxPooling(2x2, 2,2)\n",
       "  }\n",
       "  (2): nn.Sequential {\n",
       "    [input -> (1) -> (2) -> (3) -> (4) -> (5) -> (6) -> (7) -> (8) -> (9) -> (10) -> (11) -> (12) -> (13) -> (14) -> (15) -> (16) -> (17) -> (18) -> (19) -> (20) -> (21) -> (22) -> (23) -> (24) -> (25) -> (26) -> (27) -> (28) -> (29) -> (30) -> (31) -> (32) -> (33) -> (34) -> (35) -> (36) -> (37) -> (38) -> (39) -> (40) -> (41) -> (42) -> output]\n",
       "    (1): nn.SpatialMaxUnpooling associated to nn.SpatialMaxPooling(2x2, 2,2)\n",
       "    (2): nn.SpatialConvolution(512 -> 512, 3x3, 1,1, 1,1)\n",
       "    (3): nn.SpatialBatchNormalization\n",
       "    (4): nn.ReLU\n",
       "    (5): nn.SpatialConvolution(512 -> 512, 3x3, 1,1, 1,1)\n",
       "    (6): nn.SpatialBatchNormalization\n",
       "    (7): nn.ReLU\n",
       "    (8): nn.SpatialConvolution(512 -> 512, 3x3, 1,1, 1,1)\n",
       "    (9): nn.SpatialBatchNormalization\n",
       "    (10): nn.ReLU\n",
       "    (11): nn.SpatialMaxUnpooling associated to nn.SpatialMaxPooling(2x2, 2,2)\n",
       "    (12): nn.SpatialConvolution(512 -> 512, 3x3, 1,1, 1,1)\n",
       "    (13): nn.SpatialBatchNormalization\n",
       "    (14): nn.ReLU\n",
       "    (15): nn.SpatialConvolution(512 -> 512, 3x3, 1,1, 1,1)\n",
       "    (16): nn.SpatialBatchNormalization\n",
       "    (17): nn.ReLU\n",
       "    (18): nn.SpatialConvolution(512 -> 256, 3x3, 1,1, 1,1)\n",
       "    (19): nn.SpatialBatchNormalization\n",
       "    (20): nn.ReLU\n",
       "    (21): nn.SpatialMaxUnpooling associated to nn.SpatialMaxPooling(2x2, 2,2)\n",
       "    (22): nn.SpatialConvolution(256 -> 256, 3x3, 1,1, 1,1)\n",
       "    (23): nn.SpatialBatchNormalization\n",
       "    (24): nn.ReLU\n",
       "    (25): nn.SpatialConvolution(256 -> 256, 3x3, 1,1, 1,1)\n",
       "    (26): nn.SpatialBatchNormalization\n",
       "    (27): nn.ReLU\n",
       "    (28): nn.SpatialConvolution(256 -> 128, 3x3, 1,1, 1,1)\n",
       "    (29): nn.SpatialBatchNormalization\n",
       "    (30): nn.ReLU\n",
       "    (31): nn.SpatialMaxUnpooling associated to nn.SpatialMaxPooling(2x2, 2,2)\n",
       "    (32): nn.SpatialConvolution(128 -> 128, 3x3, 1,1, 1,1)\n",
       "    (33): nn.SpatialBatchNormalization\n",
       "    (34): nn.ReLU\n",
       "    (35): nn.SpatialConvolution(128 -> 64, 3x3, 1,1, 1,1)\n",
       "    (36): nn.SpatialBatchNormalization\n",
       "    (37): nn.ReLU\n",
       "    (3"
      ]
     },
     "execution_count": 5,
     "metadata": {},
     "output_type": "execute_result"
    },
    {
     "data": {
      "text/plain": [
       "8): nn.SpatialMaxUnpooling associated to nn.SpatialMaxPooling(2x2, 2,2)\n",
       "    (39): nn.SpatialConvolution(64 -> 64, 3x3, 1,1, 1,1)\n",
       "    (40): nn.SpatialBatchNormalization\n",
       "    (41): nn.ReLU\n",
       "    (42): nn.SpatialConvolution(64 -> 14, 3x3, 1,1, 1,1)\n",
       "  }\n",
       "}\n",
       "{\n",
       "  gradInput : CudaTensor - empty\n",
       "  modules : \n",
       "    {\n",
       "      1 : \n",
       "        nn.Sequential {\n",
       "          [input -> (1) -> (2) -> (3) -> (4) -> (5) -> (6) -> (7) -> (8) -> (9) -> (10) -> (11) -> (12) -> (13) -> (14) -> (15) -> (16) -> (17) -> (18) -> (19) -> (20) -> (21) -> (22) -> (23) -> (24) -> (25) -> (26) -> (27) -> (28) -> (29) -> (30) -> (31) -> (32) -> (33) -> (34) -> (35) -> (36) -> (37) -> (38) -> (39) -> (40) -> (41) -> (42) -> (43) -> (44) -> output]\n",
       "          (1): nn.SpatialConvolution(3 -> 64, 3x3, 1,1, 1,1)\n",
       "          (2): nn.SpatialBatchNormalization\n",
       "          (3): nn.ReLU\n",
       "          (4): nn.SpatialConvolution(64 -> 64, 3x3, 1,1, 1,1)\n",
       "          (5): nn.SpatialBatchNormalization\n",
       "          (6): nn.ReLU\n",
       "          (7): nn.SpatialMaxPooling(2x2, 2,2)\n",
       "          (8): nn.SpatialConvolution(64 -> 128, 3x3, 1,1, 1,1)\n",
       "          (9): nn.SpatialBatchNormalization\n",
       "          (10): nn.ReLU\n",
       "          (11): nn.SpatialConvolution(128 -> 128, 3x3, 1,1, 1,1)\n",
       "          (12): nn.SpatialBatchNormalization\n",
       "          (13): nn.ReLU\n",
       "          (14): nn.SpatialMaxPooling(2x2, 2,2)\n",
       "          (15): nn.SpatialConvolution(128 -> 256, 3x3, 1,1, 1,1)\n",
       "          (16): nn.SpatialBatchNormalization\n",
       "          (17): nn.ReLU\n",
       "          (18): nn.SpatialConvolution(256 -> 256, 3x3, 1,1, 1,1)\n",
       "          (19): nn.SpatialBatchNormalization\n",
       "          (20): nn.ReLU\n",
       "          (21): nn.SpatialConvolution(256 -> 256, 3x3, 1,1, 1,1)\n",
       "          (22): nn.SpatialBatchNormalization\n",
       "          (23): nn.ReLU\n",
       "          (24): nn.SpatialMaxPooling(2x2, 2,2)\n",
       "          (25): nn.SpatialConvolution(256 -> 512, 3x3, 1,1, 1,1)\n",
       "          (26): nn.SpatialBatchNormalization\n",
       "          (27): nn.ReLU\n",
       "          (28): nn.SpatialConvolution(512 -> 512, 3x3, 1,1, 1,1)\n",
       "          (29): nn.SpatialBatchNormalization\n",
       "          (30): nn.ReLU\n",
       "          (31): nn.SpatialConvolution(512 -> 512, 3x3, 1,1, 1,1)\n",
       "          (32): nn.SpatialBatchNormalization\n",
       "          (33): nn.ReLU\n",
       "          (34): nn.SpatialMaxPooling(2x2, 2,2)\n",
       "          (35): nn.SpatialConvolution(512 -> 512, 3x3, 1,1, 1,1)\n",
       "          (36): nn.SpatialBatchNormalization\n",
       "          (37): nn.ReLU\n",
       "          (38): nn.SpatialConvolution(512 -> 512, 3x3, 1,1, 1,1)\n",
       "          (39): nn.SpatialBatchNormalization\n",
       "          (40): nn.ReLU\n",
       "          (41): nn.SpatialConvolution(512 -> 512, 3x3, 1,1, 1,1)\n",
       "          (42): nn.SpatialBatchNormalization\n",
       "          (43): nn.ReLU\n",
       "          (44): nn.SpatialMaxPooling(2x2, 2,2)\n",
       "        }\n",
       "        {\n",
       "          gradInput : CudaTensor - empty\n",
       "          modules : \n",
       "            {\n",
       "              1 : \n",
       "                nn.SpatialConvolution(3 -> 64, 3x3, 1,1, 1,1)\n",
       "                {\n",
       "                  dH : 1\n",
       "                  dW : 1\n",
       "                  nInputPlane : 3\n",
       "                  output : CudaTensor - empty\n",
       "                  kH : 3\n",
       "                  gradInput : CudaTensor - empty\n",
       "                  kW : 3\n",
       "                  nOutputPlane : 64\n",
       "                  weight : CudaTensor - size: 64x3x3x3\n",
       "                  _type : torch.CudaTensor\n",
       "                  gradWeight : CudaTensor - size: 64x3x3x3\n",
       "                  padW : 1\n",
       "                  bias : CudaTensor - size: 64\n",
       "                  padH : 1\n",
       "          "
      ]
     },
     "execution_count": 5,
     "metadata": {},
     "output_type": "execute_result"
    },
    {
     "data": {
      "text/plain": [
       "        gradBias : CudaTensor - size: 64\n",
       "                }\n",
       "              2 : \n",
       "                nn.SpatialBatchNormalization\n",
       "                {\n",
       "                  gradBias : CudaTensor - size: 64\n",
       "                  output : CudaTensor - empty\n",
       "                  gradInput : CudaTensor - empty\n",
       "                  running_var : CudaTensor - size: 64\n",
       "                  momentum : 0.1\n",
       "                  gradWeight : CudaTensor - size: 64\n",
       "                  eps : 1e-05\n",
       "                  _type : torch.CudaTensor\n",
       "                  affine : true\n",
       "                  running_mean : CudaTensor - size: 64\n",
       "                  bias : CudaTensor - size: 64\n",
       "                  weight : CudaTensor - size: 64\n",
       "                  train : true\n",
       "                }\n",
       "              3 : \n",
       "                nn.ReLU\n",
       "                {\n",
       "                  inplace : false\n",
       "                  threshold : 0\n",
       "                  _type : torch.CudaTensor\n",
       "                  output : CudaTensor - empty\n",
       "                  gradInput : CudaTensor - empty\n",
       "                  val : 0\n",
       "                }\n",
       "           "
      ]
     },
     "execution_count": 5,
     "metadata": {},
     "output_type": "execute_result"
    },
    {
     "data": {
      "text/plain": [
       "   4 : \n",
       "                nn.SpatialConvolution(64 -> 64, 3x3, 1,1, 1,1)\n",
       "                {\n",
       "                  dH : 1\n",
       "                  dW : 1\n",
       "                  nInputPlane : 64\n",
       "                  output : CudaTensor - empty\n",
       "                  kH : 3\n",
       "                  gradInput : CudaTensor - empty\n",
       "                  kW : 3\n",
       "                  nOutputPlane : 64\n",
       "                  weight : CudaTensor - size: 64x64x3x3\n",
       "                  _type : torch.CudaTensor\n",
       "                  gradWeight : CudaTensor - size: 64x64x3x3\n",
       "                  padW : 1\n",
       "                  bias : CudaTensor - size: 64\n",
       "                  padH : 1\n",
       "                  gradBias : CudaTensor - size: 64\n",
       "                }\n",
       "              5 : \n",
       "                nn.SpatialBatchNormalization\n",
       "                {\n",
       "                  gradBias : CudaTensor - size: 64\n",
       "                  output : CudaTensor - empty\n",
       "                  gradInput : CudaTensor - empty\n",
       "                  running_var : CudaTensor - size: 64\n",
       "                  momentum : 0.1\n",
       "                  gradWeight : CudaTensor - size: 64\n",
       "            "
      ]
     },
     "execution_count": 5,
     "metadata": {},
     "output_type": "execute_result"
    },
    {
     "data": {
      "text/plain": [
       "      eps : 1e-05\n",
       "                  _type : torch.CudaTensor\n",
       "                  affine : true\n",
       "                  running_mean : CudaTensor - size: 64\n",
       "                  bias : CudaTensor - size: 64\n",
       "                  weight : CudaTensor - size: 64\n",
       "                  train : true\n",
       "                }\n",
       "              6 : \n",
       "                nn.ReLU\n",
       "                {\n",
       "                  inplace : false\n",
       "                  threshold : 0\n",
       "                  _type : torch.CudaTensor\n",
       "                  output : CudaTensor - empty\n",
       "                  gradInput : CudaTensor - empty\n",
       "                  val : 0\n",
       "                }\n",
       "              7 : \n",
       "                nn.SpatialMaxPooling(2x2, 2,2)\n",
       "                {\n",
       "                  dH : 2\n",
       "                  dW : 2\n",
       "                  kW : 2\n",
       "                  gradInput : CudaTensor - empty\n",
       "                  indices : CudaTensor - empty\n",
       "                  _type : torch.CudaTensor\n",
       "                  padH : 0\n",
       "                  ceil_mode : false\n",
       "                  output : CudaTensor - empty\n",
       "                  kH : 2\n",
       "   "
      ]
     },
     "execution_count": 5,
     "metadata": {},
     "output_type": "execute_result"
    },
    {
     "data": {
      "text/plain": [
       "               padW : 0\n",
       "                }\n",
       "              8 : \n",
       "                nn.SpatialConvolution(64 -> 128, 3x3, 1,1, 1,1)\n",
       "                {\n",
       "                  dH : 1\n",
       "                  dW : 1\n",
       "                  nInputPlane : 64\n",
       "                  output : CudaTensor - empty\n",
       "                  kH : 3\n",
       "                  gradInput : CudaTensor - empty\n",
       "                  kW : 3\n",
       "                  nOutputPlane : 128\n",
       "                  weight : CudaTensor - size: 128x64x3x3\n",
       "                  _type : torch.CudaTensor\n",
       "                  gradWeight : CudaTensor - size: 128x64x3x3\n",
       "                  padW : 1\n",
       "                  bias : CudaTensor - size: 128\n",
       "                  padH : 1\n",
       "                  gradBias : CudaTensor - size: 128\n",
       "                }\n",
       "              9 : \n",
       "                nn.SpatialBatchNormalization\n",
       "                {\n",
       "                  gradBias : CudaTensor - size: 128\n",
       "          "
      ]
     },
     "execution_count": 5,
     "metadata": {},
     "output_type": "execute_result"
    },
    {
     "data": {
      "text/plain": [
       "        output : CudaTensor - empty\n",
       "                  gradInput : CudaTensor - empty\n",
       "                  running_var : CudaTensor - size: 128\n",
       "                  momentum : 0.1\n",
       "                  gradWeight : CudaTensor - size: 128\n",
       "                  eps : 1e-05\n",
       "                  _type : torch.CudaTensor\n",
       "                  affine : true\n",
       "                  running_mean : CudaTensor - size: 128\n",
       "                  bias : CudaTensor - size: 128\n",
       "                  weight : CudaTensor - size: 128\n",
       "                  train : true\n",
       "                }\n",
       "              10 : \n",
       "                nn.ReLU\n",
       "                {\n",
       "                  inplace : false\n",
       "                  threshold : 0\n",
       "                  _type : torch.CudaTensor\n",
       "                  output : CudaTensor - empty\n",
       "                  gradInput : CudaTensor - empty\n",
       "                  val : 0\n",
       "                }\n",
       "              11 : \n",
       "                nn.SpatialConvolution(128 -> 128, 3x3, 1,1, 1,1)\n",
       "                {\n",
       "                  dH : 1\n",
       "                  dW : 1\n",
       "                  nInputPlane : 128\n"
      ]
     },
     "execution_count": 5,
     "metadata": {},
     "output_type": "execute_result"
    },
    {
     "data": {
      "text/plain": [
       "                  output : CudaTensor - empty\n",
       "                  kH : 3\n",
       "                  gradInput : CudaTensor - empty\n",
       "                  kW : 3\n",
       "                  nOutputPlane : 128\n",
       "                  weight : CudaTensor - size: 128x128x3x3\n",
       "                  _type : torch.CudaTensor\n",
       "                  gradWeight : CudaTensor - size: 128x128x3x3\n",
       "                  padW : 1\n",
       "                  bias : CudaTensor - size: 128\n",
       "                  padH : 1\n",
       "                  gradBias : CudaTensor - size: 128\n",
       "                }\n",
       "              12 : \n",
       "                nn.SpatialBatchNormalization\n",
       "                {\n",
       "                  gradBias : CudaTensor - size: 128\n",
       "                  output : CudaTensor - empty\n",
       "                  gradInput : CudaTensor - empty\n",
       "                  running_var : CudaTensor - size: 128\n",
       "                  momentum : 0.1\n",
       "                  gradWeight : CudaTensor - size: 128\n",
       "                  eps : 1e-05\n",
       "                  _type : torch.CudaTensor\n",
       "                  affine : true\n",
       "                  running_mean : CudaTensor - size: 128\n",
       "      "
      ]
     },
     "execution_count": 5,
     "metadata": {},
     "output_type": "execute_result"
    },
    {
     "data": {
      "text/plain": [
       "            bias : CudaTensor - size: 128\n",
       "                  weight : CudaTensor - size: 128\n",
       "                  train : true\n",
       "                }\n",
       "              13 : \n",
       "                nn.ReLU\n",
       "                {\n",
       "                  inplace : false\n",
       "                  threshold : 0\n",
       "                  _type : torch.CudaTensor\n",
       "                  output : CudaTensor - empty\n",
       "                  gradInput : CudaTensor - empty\n",
       "                  val : 0\n",
       "                }\n",
       "              14 : \n",
       "                nn.SpatialMaxPooling(2x2, 2,2)\n",
       "                {\n",
       "                  dH : 2\n",
       "                  dW : 2\n",
       "                  kW : 2\n",
       "                  gradInput : CudaTensor - empty\n",
       "                  indices : CudaTensor - empty\n",
       "                  _type : torch.CudaTensor\n",
       "                  padH : 0\n",
       "                  ceil_mode : false\n",
       "                  output : CudaTensor - empty\n",
       "                  kH : 2\n",
       "                  padW : 0\n",
       "                }\n",
       "              15 : \n",
       "                nn.SpatialConvolution(128 -> 256, 3x3, 1,1, 1,1)\n",
       "                {\n",
       "  "
      ]
     },
     "execution_count": 5,
     "metadata": {},
     "output_type": "execute_result"
    },
    {
     "data": {
      "text/plain": [
       "                dH : 1\n",
       "                  dW : 1\n",
       "                  nInputPlane : 128\n",
       "                  output : CudaTensor - empty\n",
       "                  kH : 3\n",
       "                  gradInput : CudaTensor - empty\n",
       "                  kW : 3\n",
       "                  nOutputPlane : 256\n",
       "                  weight : CudaTensor - size: 256x128x3x3\n",
       "                  _type : torch.CudaTensor\n",
       "                  gradWeight : CudaTensor - size: 256x128x3x3\n",
       "                  padW : 1\n",
       "                  bias : CudaTensor - size: 256\n",
       "                  padH : 1\n",
       "                  gradBias : CudaTensor - size: 256\n",
       "                }\n",
       "              16 : \n",
       "                nn.SpatialBatchNormalization\n",
       "                {\n",
       "                  gradBias : CudaTensor - size: 256\n",
       "                  output : CudaTensor - empty\n",
       "                  gradInput : CudaTensor - empty\n",
       "                  running_var : CudaTensor - size: 256\n",
       "                  momentum : 0.1\n",
       "                  gradWeight : CudaTensor - size: 256\n",
       "                  eps : 1e-05\n",
       "                  _type : torch.CudaTensor\n",
       "   "
      ]
     },
     "execution_count": 5,
     "metadata": {},
     "output_type": "execute_result"
    },
    {
     "data": {
      "text/plain": [
       "               affine : true\n",
       "                  running_mean : CudaTensor - size: 256\n",
       "                  bias : CudaTensor - size: 256\n",
       "                  weight : CudaTensor - size: 256\n",
       "                  train : true\n",
       "                }\n",
       "              17 : \n",
       "                nn.ReLU\n",
       "                {\n",
       "                  inplace : false\n",
       "                  threshold : 0\n",
       "                  _type : torch.CudaTensor\n",
       "                  output : CudaTensor - empty\n",
       "                  gradInput : CudaTensor - empty\n",
       "                  val : 0\n",
       "                }\n",
       "              18 : \n",
       "                nn.SpatialConvolution(256 -> 256, 3x3, 1,1, 1,1)\n",
       "                {\n",
       "                  dH : 1\n",
       "                  dW : 1\n",
       "                  nInputPlane : 256\n",
       "                  output : CudaTensor - empty\n",
       "                  kH : 3\n",
       "                  gradInput : CudaTensor - empty\n",
       "                  kW : 3\n",
       "                  nOutputPlane : 256\n",
       "       "
      ]
     },
     "execution_count": 5,
     "metadata": {},
     "output_type": "execute_result"
    },
    {
     "data": {
      "text/plain": [
       "           weight : CudaTensor - size: 256x256x3x3\n",
       "                  _type : torch.CudaTensor\n",
       "                  gradWeight : CudaTensor - size: 256x256x3x3\n",
       "                  padW : 1\n",
       "                  bias : CudaTensor - size: 256\n",
       "                  padH : 1\n",
       "                  gradBias : CudaTensor - size: 256\n",
       "                }\n",
       "              19 : \n",
       "                nn.SpatialBatchNormalization\n",
       "                {\n",
       "                  gradBias : CudaTensor - size: 256\n",
       "                  output : CudaTensor - empty\n",
       "                  gradInput : CudaTensor - empty\n",
       "                  running_var : CudaTensor - size: 256\n",
       "                  momentum : 0.1\n",
       "                  gradWeight : CudaTensor - size: 256\n",
       "                  eps : 1e-05\n",
       "                  _type : torch.CudaTensor\n",
       "                  affine : true\n",
       "                  running_mean : CudaTensor - size: 256\n",
       "                  bias : CudaTensor - size: 256\n",
       "                  weight : CudaTensor - size: 256\n",
       "                  train : true\n",
       "                }\n",
       "              20 : \n",
       "                nn.ReLU\n",
       "                "
      ]
     },
     "execution_count": 5,
     "metadata": {},
     "output_type": "execute_result"
    },
    {
     "data": {
      "text/plain": [
       "{\n",
       "                  inplace : false\n",
       "                  threshold : 0\n",
       "                  _type : torch.CudaTensor\n",
       "                  output : CudaTensor - empty\n",
       "                  gradInput : CudaTensor - empty\n",
       "                  val : 0\n",
       "                }\n",
       "              21 : \n",
       "                nn.SpatialConvolution(256 -> 256, 3x3, 1,1, 1,1)\n",
       "                {\n",
       "                  dH : 1\n",
       "                  dW : 1\n",
       "                  nInputPlane : 256\n",
       "                  output : CudaTensor - empty\n",
       "                  kH : 3\n",
       "                  gradInput : CudaTensor - empty\n",
       "                  kW : 3\n",
       "                  nOutputPlane : 256\n",
       "                  weight : CudaTensor - size: 256x256x3x3\n",
       "                  _type : torch.CudaTensor\n",
       "                  gradWeight : CudaTensor - size: 256x256x3x3\n",
       "                  padW : 1\n",
       "                  bias : CudaTensor - size: 256\n",
       "                  padH : 1\n",
       "                  gradBias : CudaTensor - size: 256\n",
       "         "
      ]
     },
     "execution_count": 5,
     "metadata": {},
     "output_type": "execute_result"
    },
    {
     "data": {
      "text/plain": [
       "       }\n",
       "              22 : \n",
       "                nn.SpatialBatchNormalization\n",
       "                {\n",
       "                  gradBias : CudaTensor - size: 256\n",
       "                  output : CudaTensor - empty\n",
       "                  gradInput : CudaTensor - empty\n",
       "                  running_var : CudaTensor - size: 256\n",
       "                  momentum : 0.1\n",
       "                  gradWeight : CudaTensor - size: 256\n",
       "                  eps : 1e-05\n",
       "                  _type : torch.CudaTensor\n",
       "                  affine : true\n",
       "                  running_mean : CudaTensor - size: 256\n",
       "                  bias : CudaTensor - size: 256\n",
       "                  weight : CudaTensor - size: 256\n",
       "                  train : true\n",
       "                }\n",
       "              23 : \n",
       "                nn.ReLU\n",
       "                {\n",
       "                  inplace : false\n",
       "                  threshold : 0\n",
       "                  _type : torch.CudaTensor\n",
       "                  output : CudaTensor - empty\n",
       "                  gradInput : CudaTensor - empty\n",
       "                  val : 0\n",
       "                }\n",
       "              "
      ]
     },
     "execution_count": 5,
     "metadata": {},
     "output_type": "execute_result"
    },
    {
     "data": {
      "text/plain": [
       "24 : \n",
       "                nn.SpatialMaxPooling(2x2, 2,2)\n",
       "                {\n",
       "                  dH : 2\n",
       "                  dW : 2\n",
       "                  kW : 2\n",
       "                  gradInput : CudaTensor - empty\n",
       "                  indices : CudaTensor - empty\n",
       "                  _type : torch.CudaTensor\n",
       "                  padH : 0\n",
       "                  ceil_mode : false\n",
       "                  output : CudaTensor - empty\n",
       "                  kH : 2\n",
       "                  padW : 0\n",
       "                }\n",
       "              25 : \n",
       "                nn.SpatialConvolution(256 -> 512, 3x3, 1,1, 1,1)\n",
       "                {\n",
       "                  dH : 1\n",
       "                  dW : 1\n",
       "                  nInputPlane : 256\n",
       "                  output : CudaTensor - empty\n",
       "                  kH : 3\n",
       "                  gradInput : CudaTensor - empty\n",
       "                  kW : 3\n",
       "                  nOutputPlane : 512\n",
       "                  weight : CudaTensor - size: 512x256x3x3\n",
       "                  _type : torch.CudaTensor\n"
      ]
     },
     "execution_count": 5,
     "metadata": {},
     "output_type": "execute_result"
    },
    {
     "data": {
      "text/plain": [
       "                  gradWeight : CudaTensor - size: 512x256x3x3\n",
       "                  padW : 1\n",
       "                  bias : CudaTensor - size: 512\n",
       "                  padH : 1\n",
       "                  gradBias : CudaTensor - size: 512\n",
       "                }\n",
       "              26 : \n",
       "                nn.SpatialBatchNormalization\n",
       "                {\n",
       "                  gradBias : CudaTensor - size: 512\n",
       "                  output : CudaTensor - empty\n",
       "                  gradInput : CudaTensor - empty\n",
       "                  running_var : CudaTensor - size: 512\n",
       "                  momentum : 0.1\n",
       "                  gradWeight : CudaTensor - size: 512\n",
       "                  eps : 1e-05\n",
       "                  _type : torch.CudaTensor\n",
       "                  affine : true\n",
       "                  running_mean : CudaTensor - size: 512\n",
       "                  bias : CudaTensor - size: 512\n",
       "                  weight : CudaTensor - size: 512\n",
       "                  train : true\n",
       "                }\n",
       "              27 : \n",
       "            "
      ]
     },
     "execution_count": 5,
     "metadata": {},
     "output_type": "execute_result"
    },
    {
     "data": {
      "text/plain": [
       "    nn.ReLU\n",
       "                {\n",
       "                  inplace : false\n",
       "                  "
      ]
     },
     "execution_count": 5,
     "metadata": {},
     "output_type": "execute_result"
    },
    {
     "data": {
      "text/plain": [
       "threshold : 0\n",
       "                  _type : torch.CudaTensor\n",
       "                  output : CudaTensor - empty\n",
       "                  gradInput : CudaTensor - empty\n",
       "                  val : 0\n",
       "                }\n",
       "              28 : \n",
       "                nn.SpatialConvolution(512 -> 512, 3x3, 1,1, 1,1)\n",
       "                {\n",
       "                  dH : 1\n",
       "                  dW : 1\n",
       "                  nInputPlane : 512\n",
       "                  output : CudaTensor - empty\n",
       "                  kH : 3\n",
       "                  gradInput : CudaTensor - empty\n",
       "                  kW : 3\n",
       "                  nOutputPlane : 512\n",
       "                  weight : CudaTensor - size: 512x512x3x3\n",
       "                  _type : torch.CudaTensor\n",
       "                  gradWeight : CudaTensor - size: 512x512x3x3\n",
       "                  padW : 1\n",
       "                  bias : CudaTensor - size: 512\n",
       "                  padH : 1\n",
       "                  gradBias : CudaTensor - size: 512\n",
       "                }\n",
       "              29 : \n",
       " "
      ]
     },
     "execution_count": 5,
     "metadata": {},
     "output_type": "execute_result"
    },
    {
     "data": {
      "text/plain": [
       "               nn.SpatialBatchNormalization\n",
       "                {\n",
       "                  gradBias : CudaTensor - size: 512\n",
       "                  output : CudaTensor - empty\n",
       "                  gradInput : CudaTensor - empty\n",
       "                  running_var : CudaTensor - size: 512\n",
       "                  momentum : 0.1\n",
       "                  gradWeight : CudaTensor - size: 512\n",
       "                  eps : 1e-05\n",
       "                  _type : torch.CudaTensor\n",
       "                  affine : true\n",
       "                  running_mean : CudaTensor - size: 512\n",
       "                  bias : CudaTensor - size: 512\n",
       "                  weight : CudaTensor - size: 512\n",
       "                  train : true\n",
       "                }\n",
       "              30 : \n",
       "                nn.ReLU\n",
       "                {\n",
       "                  inplace : false\n",
       "                  threshold : 0\n",
       "                  _type : torch.CudaTensor\n",
       "                  output : CudaTensor - empty\n",
       "                  gradInput : CudaTensor - empty\n",
       "                  val : 0\n",
       "                }\n",
       "              31 : \n",
       "          "
      ]
     },
     "execution_count": 5,
     "metadata": {},
     "output_type": "execute_result"
    },
    {
     "data": {
      "text/plain": [
       "      nn.SpatialConvolution(512 -> 512, 3x3, 1,1, 1,1)\n",
       "                {\n",
       "                  dH : 1\n",
       "                  dW : 1\n",
       "                  nInputPlane : 512\n",
       "                  output : CudaTensor - empty\n",
       "                  kH : 3\n",
       "                  gradInput : CudaTensor - empty\n",
       "                  kW : 3\n",
       "                  nOutputPlane : 512\n",
       "                  weight : CudaTensor - size: 512x512x3x3\n",
       "                  _type : torch.CudaTensor\n",
       "                  gradWeight : CudaTensor - size: 512x512x3x3\n",
       "                  padW : 1\n",
       "                  bias : CudaTensor - size: 512\n",
       "                  padH : 1\n",
       "                  gradBias : CudaTensor - size: 512\n",
       "                }\n",
       "              32 : \n",
       "                nn.SpatialBatchNormalization\n",
       "                {\n",
       "                  gradBias : CudaTensor - size: 512\n",
       "                  output : CudaTensor - empty\n",
       "                  gradInput : CudaTensor - empty\n",
       "                  running_var : CudaTensor - size: 512\n",
       "                  momentum : 0.1\n",
       "               "
      ]
     },
     "execution_count": 5,
     "metadata": {},
     "output_type": "execute_result"
    },
    {
     "data": {
      "text/plain": [
       "   gradWeight : CudaTensor - size: 512\n",
       "                  eps : 1e-05\n",
       "                  _type : torch.CudaTensor\n",
       "                  affine : true\n",
       "                  running_mean : CudaTensor - size: 512\n",
       "                  bias : CudaTensor - size: 512\n",
       "                  weight : CudaTensor - size: 512\n",
       "                  train : true\n",
       "                }\n",
       "              33 : \n",
       "                nn.ReLU\n",
       "                {\n",
       "                  inplace : false\n",
       "                  threshold : 0\n",
       "                  _type : torch.CudaTensor\n",
       "                  output : CudaTensor - empty\n",
       "                  gradInput : CudaTensor - empty\n",
       "                  val : 0\n",
       "                }\n",
       "              34 : \n",
       "                nn.SpatialMaxPooling(2x2, 2,2)\n",
       "                {\n",
       "                  dH : 2\n",
       "                  dW : 2\n",
       "                  kW : 2\n",
       "                  gradInput : CudaTensor - empty\n",
       "                  indices : CudaTensor - empty\n",
       "                  _type : torch.CudaTensor\n"
      ]
     },
     "execution_count": 5,
     "metadata": {},
     "output_type": "execute_result"
    },
    {
     "data": {
      "text/plain": [
       "                  padH : 0\n",
       "                  ceil_mode : false\n",
       "                  output : CudaTensor - empty\n",
       "                  kH : 2\n",
       "                  padW : 0\n",
       "                }\n",
       "              35 : \n",
       "                nn.SpatialConvolution(512 -> 512, 3x3, 1,1, 1,1)\n",
       "                {\n",
       "                  dH : 1\n",
       "                  dW : 1\n",
       "                  nInputPlane : 512\n",
       "                  output : CudaTensor - empty\n",
       "                  kH : 3\n",
       "                  gradInput : CudaTensor - empty\n",
       "                  kW : 3\n",
       "                  nOutputPlane : 512\n",
       "                  weight : CudaTensor - size: 512x512x3x3\n",
       "                  _type : torch.CudaTensor\n",
       "                  gradWeight : CudaTensor - size: 512x512x3x3\n",
       "                  padW : 1\n",
       "                  bias : CudaTensor - size: 512\n",
       "                  padH : 1\n",
       "                  gradBias : CudaTensor - size: 512\n",
       "                }\n",
       "              36 : \n",
       "        "
      ]
     },
     "execution_count": 5,
     "metadata": {},
     "output_type": "execute_result"
    },
    {
     "data": {
      "text/plain": [
       "        nn.SpatialBatchNormalization\n",
       "                {\n",
       "                  gradBias : CudaTensor - size: 512\n",
       "                  output : CudaTensor - empty\n",
       "                  gradInput : CudaTensor - empty\n",
       "                  running_var : CudaTensor - size: 512\n",
       "                  momentum : 0.1\n",
       "                  gradWeight : CudaTensor - size: 512\n",
       "                  eps : 1e-05\n",
       "                  _type : torch.CudaTensor\n",
       "                  affine : true\n",
       "                  running_mean : CudaTensor - size: 512\n",
       "                  bias : CudaTensor - size: 512\n",
       "                  weight : CudaTensor - size: 512\n",
       "                  train : true\n",
       "                }\n",
       "              37 : \n",
       "                nn.ReLU\n",
       "                {\n",
       "                  inplace : false\n",
       "                  threshold : 0\n",
       "                  _type : torch.CudaTensor\n",
       "                  output : CudaTensor - empty\n",
       "                  gradInput : CudaTensor - empty\n",
       "                  val : 0\n",
       "           "
      ]
     },
     "execution_count": 5,
     "metadata": {},
     "output_type": "execute_result"
    },
    {
     "data": {
      "text/plain": [
       "     }\n",
       "              38 : \n",
       "                nn.SpatialConvolution(512 -> 512, 3x3, 1,1, 1,1)\n",
       "                {\n",
       "                  dH : 1\n",
       "                  dW : 1\n",
       "                  nInputPlane : 512\n",
       "                  output : CudaTensor - empty\n",
       "                  kH : 3\n",
       "                  gradInput : CudaTensor - empty\n",
       "                  kW : 3\n",
       "                  nOutputPlane : 512\n",
       "                  weight : CudaTensor - size: 512x512x3x3\n",
       "                  _type : torch.CudaTensor\n",
       "                  gradWeight : CudaTensor - size: 512x512x3x3\n",
       "                  padW : 1\n",
       "                  bias : CudaTensor - size: 512\n",
       "                  padH : 1\n",
       "                  gradBias : CudaTensor - size: 512\n",
       "                }\n",
       "              39 : \n",
       "                nn.SpatialBatchNormalization\n",
       "                {\n",
       "                  gradBias : CudaTensor - size: 512\n",
       "                  output : CudaTensor - empty\n",
       "                  gradInput : CudaTensor - empty\n"
      ]
     },
     "execution_count": 5,
     "metadata": {},
     "output_type": "execute_result"
    },
    {
     "data": {
      "text/plain": [
       "                  running_var : CudaTensor - size: 512\n",
       "                  momentum : 0.1\n",
       "                  gradWeight : CudaTensor - size: 512\n",
       "                  eps : 1e-05\n",
       "                  _type : torch.CudaTensor\n",
       "                  affine : true\n",
       "                  running_mean : CudaTensor - size: 512\n",
       "                  bias : CudaTensor - size: 512\n",
       "                  weight : CudaTensor - size: 512\n",
       "                  train : true\n",
       "                }\n",
       "              40 : \n",
       "                nn.ReLU\n",
       "                {\n",
       "                  inplace : false\n",
       "                  threshold : 0\n",
       "                  _type : torch.CudaTensor\n",
       "                  output : CudaTensor - empty\n",
       "                  gradInput : CudaTensor - empty\n",
       "                  val : 0\n",
       "                }\n",
       "              41 : \n",
       "                nn.SpatialConvolution(512 -> 512, 3x3, 1,1, 1,1)\n",
       "                {\n",
       "                  dH : 1\n",
       "                  dW : 1\n",
       "                  nInputPlane : 512\n"
      ]
     },
     "execution_count": 5,
     "metadata": {},
     "output_type": "execute_result"
    },
    {
     "data": {
      "text/plain": [
       "                  output : CudaTensor - empty\n",
       "                  kH : 3\n",
       "                  gradInput : CudaTensor - empty\n",
       "                  kW : 3\n",
       "                  nOutputPlane : 512\n",
       "                  weight : CudaTensor - size: 512x512x3x3\n",
       "                  _type : torch.CudaTensor\n",
       "                  gradWeight : CudaTensor - size: 512x512x3x3\n",
       "                  padW : 1\n",
       "                  bias : CudaTensor - size: 512\n",
       "                  padH : 1\n",
       "                  gradBias : CudaTensor - size: 512\n",
       "                }\n",
       "              42 : \n",
       "                nn.SpatialBatchNormalization\n",
       "                {\n",
       "                  gradBias : CudaTensor - size: 512\n",
       "                  output : CudaTensor - empty\n",
       "                  gradInput : CudaTensor - empty\n",
       "                  running_var : CudaTensor - size: 512\n",
       "                  momentum : 0.1\n",
       "                  gradWeight : CudaTensor - size: 512\n",
       "                  eps : 1e-05\n",
       "                  _type : torch.CudaTensor\n",
       "                  affine : true\n",
       "        "
      ]
     },
     "execution_count": 5,
     "metadata": {},
     "output_type": "execute_result"
    },
    {
     "data": {
      "text/plain": [
       "          running_mean : CudaTensor - size: 512\n",
       "                  bias : CudaTensor - size: 512\n",
       "                  weight : CudaTensor - size: 512\n",
       "                  train : true\n",
       "                }\n",
       "              43 : \n",
       "                nn.ReLU\n",
       "                {\n",
       "                  inplace : false\n",
       "                  threshold : 0\n",
       "                  _type : torch.CudaTensor\n",
       "                  output : CudaTensor - empty\n",
       "                  gradInput : CudaTensor - empty\n",
       "                  val : 0\n",
       "                }\n",
       "              44 : \n",
       "                nn.SpatialMaxPooling(2x2, 2,2)\n",
       "                {\n",
       "                  dH : 2\n",
       "                  dW : 2\n",
       "                  kW : 2\n",
       "                  gradInput : CudaTensor - empty\n",
       "                  indices : CudaTensor - empty\n",
       "                  _type : torch.CudaTensor\n",
       "                  padH : 0\n",
       "                  ceil_mode : false\n",
       "                  output : CudaTensor - empty\n",
       "          "
      ]
     },
     "execution_count": 5,
     "metadata": {},
     "output_type": "execute_result"
    },
    {
     "data": {
      "text/plain": [
       "        kH : 2\n",
       "                  padW : 0\n",
       "                }\n",
       "            }\n",
       "          _type : torch.CudaTensor\n",
       "          output : CudaTensor - empty\n",
       "        }\n",
       "      2 : \n",
       "        nn.Sequential {\n",
       "          [input -> (1) -> (2) -> (3) -> (4) -> (5) -> (6) -> (7) -> (8) -> (9) -> (10) -> (11) -> (12) -> (13) -> (14) -> (15) -> (16) -> (17) -> (18) -> (19) -> (20) -> (21) -> (22) -> (23) -> (24) -> (25) -> (26) -> (27) -> (28) -> (29) -> (30) -> (31) -> (32) -> (33) -> (34) -> (35) -> (36) -> (37) -> (38) -> (39) -> (40) -> (41) -> (42) -> output]\n",
       "          (1): nn.SpatialMaxUnpooling associated to nn.SpatialMaxPooling(2x2, 2,2)\n",
       "          (2): nn.SpatialConvolution(512 -> 512, 3x3, 1,1, 1,1)\n",
       "          (3): nn.SpatialBatchNormalization\n",
       "          (4): nn.ReLU\n",
       "          (5): nn.SpatialConvolution(512 -> 512, 3x3, 1,1, 1,1)\n",
       "          (6): nn.SpatialBatchNormalization\n",
       "          (7): nn.ReLU\n",
       "          (8): nn.SpatialConvolution(512 -> 512, 3x3, 1,1, 1,1)\n",
       "          (9): nn.SpatialBatchNormalization\n",
       "          (10): nn.ReLU\n",
       "          (11): nn.SpatialMaxUnpooling associated to nn.SpatialMaxPooling(2x2, 2,2)\n",
       "          (12): nn.SpatialConvolution(512 -> 512, 3x3, 1,1, 1,1)\n",
       "          (13): nn.SpatialBatchNormalization\n",
       "          (14): nn.ReLU\n",
       "          (15): nn.SpatialConvolution(512 -> 512, 3x3, 1,1, 1,1)\n",
       "          (16): nn.SpatialBatchNormalization\n",
       "          (17): nn.ReLU\n",
       "          (18): nn.SpatialConvolution(512 -> 256, 3x3, 1,1, 1,1)\n",
       "          (19): nn.SpatialBatchNormalization\n",
       "          (20): nn.ReLU\n",
       "          (21): nn.SpatialMaxUnpooling associated to nn.SpatialMaxPooling(2x2, 2,2)\n",
       "          (22): nn.SpatialConvolution(256 -> 256, 3x3, 1,1, 1,1)\n",
       "          (23): nn.SpatialBatchNormalization\n",
       "          (24): nn.ReLU\n",
       "          (25): nn.SpatialConvolution(256 -> 256, 3x3, 1,1, 1,1)\n",
       "          (26): nn.SpatialBatchNormalization\n",
       "          (27): nn.ReLU\n",
       "          (28): nn.SpatialConvolution(256 -> 128, 3x3, 1,1, 1,1)\n",
       "          (29): nn.SpatialBatchNormalization\n",
       "          (30): nn.ReLU\n",
       "          (31): nn.SpatialMaxUnpooling associated to nn.SpatialMaxPooling(2x2, 2,2)\n",
       "          (32): nn.SpatialConvolution(128 -> 128, 3x3, 1,1, 1,1)\n",
       "          (33): nn.SpatialBatchNormalization\n",
       "          (34): nn.ReLU\n",
       "          (35): nn.SpatialConvolution(128 -> 64, 3x3, 1,1, 1,1)\n",
       "          (36): nn.SpatialBatchNormalization\n",
       "          (37): nn.ReLU\n",
       "          (38): nn.SpatialMaxUnpooling associated to nn.SpatialMaxPooling(2x2, 2,2)\n",
       "          (39): nn.SpatialConvolution(64 -> 64, 3x3, 1,1, 1,1)\n",
       "          (40): nn.SpatialBatchNormalization\n",
       "          (41): nn.ReLU\n",
       "          (42): nn.SpatialConvolution(64 -> 14, 3x3, 1,1, 1,1)\n",
       "        }\n",
       "        {\n",
       "          gradInput : CudaTensor - empty\n",
       "          modules : \n",
       "            {\n",
       "              1 : \n",
       "                nn.SpatialMaxUnpooling associated to nn.SpatialMaxPooling(2x2, 2,2)\n",
       "                {\n",
       "                  gradInput : CudaTensor - empty\n",
       "                  pooling : nn.SpatialMaxPooling(2x2, 2,2)\n",
       "                  _type : torch.CudaTensor\n",
       "                  output : CudaTensor - empty\n",
       "                }\n",
       "              2 : \n",
       "                nn.SpatialConvolution(512 -> 512, 3x3, 1,1, 1,1)\n",
       "                {\n",
       "                  dH : 1\n",
       "              "
      ]
     },
     "execution_count": 5,
     "metadata": {},
     "output_type": "execute_result"
    },
    {
     "data": {
      "text/plain": [
       "    dW : 1\n",
       "                  nInputPlane : 512\n",
       "                  output : CudaTensor - empty\n",
       "                  kH : 3\n",
       "                  gradInput : CudaTensor - empty\n",
       "                  kW : 3\n",
       "                  nOutputPlane : 512\n",
       "                  weight : CudaTensor - size: 512x512x3x3\n",
       "                  _type : torch.CudaTensor\n",
       "                  gradWeight : CudaTensor - size: 512x512x3x3\n",
       "                  padW : 1\n",
       "                  bias : CudaTensor - size: 512\n",
       "                  padH : 1\n",
       "                  gradBias : CudaTensor - size: 512\n",
       "                }\n",
       "              3 : \n",
       "                nn.SpatialBatchNormalization\n",
       "                {\n",
       "                  gradBias : CudaTensor - size: 512\n",
       "                  output : CudaTensor - empty\n",
       "                  gradInput : CudaTensor - empty\n",
       "                  running_var : CudaTensor - size: 512\n",
       "                  momentum : 0.1\n",
       "                  gradWeight : CudaTensor - size: 512\n",
       "                  eps : 1e-05\n",
       "                  _type : torch.CudaTensor\n",
       "        "
      ]
     },
     "execution_count": 5,
     "metadata": {},
     "output_type": "execute_result"
    },
    {
     "data": {
      "text/plain": [
       "          affine : true\n",
       "                  running_mean : CudaTensor - size: 512\n",
       "                  bias : CudaTensor - size: 512\n",
       "                  weight : CudaTensor - size: 512\n",
       "                  train : true\n",
       "                }\n",
       "              4 : \n",
       "                nn.ReLU\n",
       "                {\n",
       "                  inplace : false\n",
       "                  threshold : 0\n",
       "                  _type : torch.CudaTensor\n",
       "                  output : CudaTensor - empty\n",
       "                  gradInput : CudaTensor - empty\n",
       "                  val : 0\n",
       "                }\n",
       "              5 : \n",
       "                nn.SpatialConvolution(512 -> 512, 3x3, 1,1, 1,1)\n",
       "                {\n",
       "                  dH : 1\n",
       "                  dW : 1\n",
       "                  nInputPlane : 512\n",
       "                  output : CudaTensor - empty\n",
       "                  kH : 3\n",
       "                  gradInput : CudaTensor - empty\n",
       "                  kW : 3\n",
       "                  nOutputPlane : 512\n"
      ]
     },
     "execution_count": 5,
     "metadata": {},
     "output_type": "execute_result"
    },
    {
     "data": {
      "text/plain": [
       "                  weight : CudaTensor - size: 512x512x3x3\n",
       "                  _type : torch.CudaTensor\n",
       "                  gradWeight : CudaTensor - size: 512x512x3x3\n",
       "                  padW : 1\n",
       "                  bias : CudaTensor - size: 512\n",
       "                  padH : 1\n",
       "                  gradBias : CudaTensor - size: 512\n",
       "                }\n",
       "              6 : \n",
       "                nn.SpatialBatchNormalization\n",
       "                {\n",
       "                  gradBias : CudaTensor - size: 512\n",
       "                  output : CudaTensor - empty\n",
       "                  gradInput : CudaTensor - empty\n",
       "                  running_var : CudaTensor - size: 512\n",
       "                  momentum : 0.1\n",
       "                  gradWeight : CudaTensor - size: 512\n",
       "                  eps : 1e-05\n",
       "                  _type : torch.CudaTensor\n",
       "                  affine : true\n",
       "                  running_mean : CudaTensor - size: 512\n",
       "                  bias : CudaTensor - size: 512\n",
       "                  weight : CudaTensor - size: 512\n",
       "                  train : true\n",
       "                }\n",
       "       "
      ]
     },
     "execution_count": 5,
     "metadata": {},
     "output_type": "execute_result"
    },
    {
     "data": {
      "text/plain": [
       "       7 : \n",
       "                nn.ReLU\n",
       "                {\n",
       "                  inplace : false\n",
       "                  threshold : 0\n",
       "                  _type : torch.CudaTensor\n",
       "                  output : CudaTensor - empty\n",
       "                  gradInput : CudaTensor - empty\n",
       "                  val : 0\n",
       "                }\n",
       "              8 : \n",
       "                nn.SpatialConvolution(512 -> 512, 3x3, 1,1, 1,1)\n",
       "                {\n",
       "                  dH : 1\n",
       "                  dW : 1\n",
       "                  nInputPlane : 512\n",
       "                  output : CudaTensor - empty\n",
       "                  kH : 3\n",
       "                  gradInput : CudaTensor - empty\n",
       "                  kW : 3\n",
       "                  nOutputPlane : 512\n",
       "                  weight : CudaTensor - size: 512x512x3x3\n",
       "                  _type : torch.CudaTensor\n",
       "                  gradWeight : CudaTensor - size: 512x512x3x3\n",
       "                  padW : 1\n",
       "                  bias : CudaTensor - size: 512\n",
       "                  padH : 1\n",
       "     "
      ]
     },
     "execution_count": 5,
     "metadata": {},
     "output_type": "execute_result"
    },
    {
     "data": {
      "text/plain": [
       "             gradBias : CudaTensor - size: 512\n",
       "                }\n",
       "              9 : \n",
       "                nn.SpatialBatchNormalization\n",
       "                {\n",
       "                  gradBias : CudaTensor - size: 512\n",
       "                  output : CudaTensor - empty\n",
       "                  gradInput : CudaTensor - empty\n",
       "                  running_var : CudaTensor - size: 512\n",
       "                  momentum : 0.1\n",
       "                  gradWeight : CudaTensor - size: 512\n",
       "                  eps : 1e-05\n",
       "                  _type : torch.CudaTensor\n",
       "                  affine : true\n",
       "                  running_mean : CudaTensor - size: 512\n",
       "                  bias : CudaTensor - size: 512\n",
       "                  weight : CudaTensor - size: 512\n",
       "                  train : true\n",
       "                }\n",
       "              10 : \n",
       "                nn.ReLU\n",
       "                {\n",
       "                  inplace : false\n",
       "                  threshold : 0\n",
       "                  _type : torch.CudaTensor\n",
       "                  output : CudaTensor - empty\n",
       "                  gradInput : CudaTensor - empty\n",
       "                  val : 0\n",
       "            "
      ]
     },
     "execution_count": 5,
     "metadata": {},
     "output_type": "execute_result"
    },
    {
     "data": {
      "text/plain": [
       "    }\n",
       "              11 : \n",
       "                nn.SpatialMaxUnpooling associated to nn.SpatialMaxPooling(2x2, 2,2)\n",
       "                {\n",
       "                  gradInput : CudaTensor - empty\n",
       "                  pooling : nn.SpatialMaxPooling(2x2, 2,2)\n",
       "                  _type : torch.CudaTensor\n",
       "                  output : CudaTensor - empty\n",
       "                }\n",
       "              12 : \n",
       "                nn.SpatialConvolution(512 -> 512, 3x3, 1,1, 1,1)\n",
       "                {\n",
       "                  dH : 1\n",
       "                  dW : 1\n",
       "                  nInputPlane : 512\n",
       "                  output : CudaTensor - empty\n",
       "                  kH : 3\n",
       "                  gradInput : CudaTensor - empty\n",
       "                  kW : 3\n",
       "                  nOutputPlane : 512\n",
       "                  weight : CudaTensor - size: 512x512x3x3\n",
       "                  _type : torch.CudaTensor\n",
       "                  gradWeight : CudaTensor - size: 512x512x3x3\n",
       "                  padW : 1\n",
       "                  bias : CudaTensor - size: 512\n",
       "                  padH : 1\n",
       "                  gradBias : CudaTensor - size: 512\n",
       "              "
      ]
     },
     "execution_count": 5,
     "metadata": {},
     "output_type": "execute_result"
    },
    {
     "data": {
      "text/plain": [
       "  }\n",
       "              13 : \n",
       "                nn.SpatialBatchNormalization\n",
       "                {\n",
       "                  gradBias : CudaTensor - size: 512\n",
       "                  output : CudaTensor - empty\n",
       "                  gradInput : CudaTensor - empty\n",
       "                  running_var : CudaTensor - size: 512\n",
       "                  momentum : 0.1\n",
       "                  gradWeight : CudaTensor - size: 512\n",
       "                  eps : 1e-05\n",
       "                  _type : torch.CudaTensor\n",
       "                  affine : true\n",
       "                  running_mean : CudaTensor - size: 512\n",
       "                  bias : CudaTensor - size: 512\n",
       "                  weight : CudaTensor - size: 512\n",
       "                  train : true\n",
       "                }\n",
       "              14 : \n",
       "                nn.ReLU\n",
       "                {\n",
       "                  inplace : false\n",
       "                  threshold : 0\n",
       "                  _type : torch.CudaTensor\n",
       "                  output : CudaTensor - empty\n",
       "                  gradInput : CudaTensor - empty\n",
       "                  val : 0\n",
       "  "
      ]
     },
     "execution_count": 5,
     "metadata": {},
     "output_type": "execute_result"
    },
    {
     "data": {
      "text/plain": [
       "              }\n",
       "              15 : \n",
       "                nn.SpatialConvolution(512 -> 512, 3x3, 1,1, 1,1)\n",
       "                {\n",
       "                  dH : 1\n",
       "                  dW : 1\n",
       "                  nInputPlane : 512\n",
       "                  output : CudaTensor - empty\n",
       "                  kH : 3\n",
       "                  gradInput : CudaTensor - empty\n",
       "                  kW : 3\n",
       "                  nOutputPlane : 512\n",
       "                  weight : CudaTensor - size: 512x512x3x3\n",
       "                  _type : torch.CudaTensor\n",
       "                  gradWeight : CudaTensor - size: 512x512x3x3\n",
       "                  padW : 1\n",
       "                  bias : CudaTensor - size: 512\n",
       "                  padH : 1\n",
       "                  gradBias : CudaTensor - size: 512\n",
       "                }\n",
       "              16 : \n",
       "                nn.SpatialBatchNormalization\n",
       "                {\n",
       "                  gradBias : CudaTensor - size: 512\n",
       "                  output : CudaTensor - empty\n",
       "                  gradInput : CudaTensor - empty\n",
       "              "
      ]
     },
     "execution_count": 5,
     "metadata": {},
     "output_type": "execute_result"
    },
    {
     "data": {
      "text/plain": [
       "    running_var : CudaTensor - size: 512\n",
       "                  momentum : 0.1\n",
       "                  gradWeight : CudaTensor - size: 512\n",
       "                  eps : 1e-05\n",
       "                  _type : torch.CudaTensor\n",
       "                  affine : true\n",
       "                  running_mean : CudaTensor - size: 512\n",
       "                  bias : CudaTensor - size: 512\n",
       "                  weight : CudaTensor - size: 512\n",
       "                  train : true\n",
       "                }\n",
       "              17 : \n",
       "                nn.ReLU\n",
       "                {\n",
       "                  inplace : false\n",
       "                  threshold : 0\n",
       "                  _type : torch.CudaTensor\n",
       "                  output : CudaTensor - empty\n",
       "                  gradInput : CudaTensor - empty\n",
       "                  val : 0\n",
       "                }\n",
       "              18 : \n",
       "                nn.SpatialConvolution(512 -> 256, 3x3, 1,1, 1,1)\n",
       "                {\n",
       "                  dH : 1\n",
       "                  dW : 1\n",
       "                  nInputPlane : 512\n",
       "                 "
      ]
     },
     "execution_count": 5,
     "metadata": {},
     "output_type": "execute_result"
    },
    {
     "data": {
      "text/plain": [
       " output : CudaTensor - empty\n",
       "                  kH : 3\n",
       "                  gradInput : CudaTensor - empty\n",
       "                  kW : 3\n",
       "                  nOutputPlane : 256\n",
       "                  weight : CudaTensor - size: 256x512x3x3\n",
       "                  _type : torch.CudaTensor\n",
       "                  gradWeight : CudaTensor - size: 256x512x3x3\n",
       "                  padW : 1\n",
       "                  bias : CudaTensor - size: 256\n",
       "                  padH : 1\n",
       "                  gradBias : CudaTensor - size: 256\n",
       "                }\n",
       "              19 : \n",
       "                nn.SpatialBatchNormalization\n",
       "                {\n",
       "                  gradBias : CudaTensor - size: 256\n",
       "                  output : CudaTensor - empty\n",
       "                  gradInput : CudaTensor - empty\n",
       "                  running_var : CudaTensor - size: 256\n",
       "                  momentum : 0.1\n",
       "                  gradWeight : CudaTensor - size: 256\n",
       "                  eps : 1e-05\n",
       "                  _type : torch.CudaTensor\n",
       "                  affine : true\n",
       "                  running_mean : CudaTensor - size: 256\n"
      ]
     },
     "execution_count": 5,
     "metadata": {},
     "output_type": "execute_result"
    },
    {
     "data": {
      "text/plain": [
       "                  bias : CudaTensor - size: 256\n",
       "                  weight : CudaTensor - size: 256\n",
       "                  train : true\n",
       "                }\n",
       "              20 : \n",
       "                nn.ReLU\n",
       "                {\n",
       "                  inplace : false\n",
       "                  threshold : 0\n",
       "                  _type : torch.CudaTensor\n",
       "                  output : CudaTensor - empty\n",
       "                  gradInput : CudaTensor - empty\n",
       "                  val : 0\n",
       "                }\n",
       "              21 : \n",
       "                nn.SpatialMaxUnpooling associated to nn.SpatialMaxPooling(2x2, 2,2)\n",
       "                {\n",
       "                  gradInput : CudaTensor - empty\n",
       "                  pooling : nn.SpatialMaxPooling(2x2, 2,2)\n",
       "                  _type : torch.CudaTensor\n",
       "                  output : CudaTensor - empty\n",
       "                }\n",
       "              22 : \n",
       "                nn.SpatialConvolution(256 -> 256, 3x3, 1,1, 1,1)\n",
       "                {\n",
       "                  dH : 1\n",
       "                  dW : 1\n",
       "                  nInputPlane : 256\n"
      ]
     },
     "execution_count": 5,
     "metadata": {},
     "output_type": "execute_result"
    },
    {
     "data": {
      "text/plain": [
       "                  output : CudaTensor - empty\n",
       "                  kH : 3\n",
       "                  gradInput : CudaTensor - empty\n",
       "                  kW : 3\n",
       "                  nOutputPlane : 256\n",
       "                  weight : CudaTensor - size: 256x256x3x3\n",
       "                  _type : torch.CudaTensor\n",
       "                  gradWeight : CudaTensor - size: 256x256x3x3\n",
       "                  padW : 1\n",
       "                  bias : CudaTensor - size: 256\n",
       "                  padH : 1\n",
       "                  gradBias : CudaTensor - size: 256\n",
       "                }\n",
       "              23 : \n",
       "                nn.SpatialBatchNormalization\n",
       "                {\n",
       "                  gradBias : CudaTensor - size: 256\n",
       "                  output : CudaTensor - empty\n",
       "                  gradInput : CudaTensor - empty\n",
       "                  running_var : CudaTensor - size: 256\n",
       "                  momentum : 0.1\n",
       "                  gradWeight : CudaTensor - size: 256\n",
       "                  eps : 1e-05\n",
       "                  _type : torch.CudaTensor\n",
       "                  affine : true\n",
       "   "
      ]
     },
     "execution_count": 5,
     "metadata": {},
     "output_type": "execute_result"
    },
    {
     "data": {
      "text/plain": [
       "               running_mean : CudaTensor - size: 256\n",
       "                  bias : CudaTensor - size: 256\n",
       "                  weight : CudaTensor - size: 256\n",
       "                  train : true\n",
       "                }\n",
       "              24 : \n",
       "                nn.ReLU\n",
       "                {\n",
       "                  inplace : false\n",
       "                  threshold : 0\n",
       "                  _type : torch.CudaTensor\n",
       "                  output : CudaTensor - empty\n",
       "                  gradInput : CudaTensor - empty\n",
       "                  val : 0\n",
       "                }\n",
       "              25 : \n",
       "                nn.SpatialConvolution(256 -> 256, 3x3, 1,1, 1,1)\n",
       "                {\n",
       "                  dH : 1\n",
       "                  dW : 1\n",
       "                  nInputPlane : 256\n",
       "                  output : CudaTensor - empty\n",
       "                  kH : 3\n",
       "                  gradInput : CudaTensor - empty\n",
       "                  kW : 3\n",
       "                  nOutputPlane : 256\n",
       "                  weight : CudaTensor - size: 256x256x3x3\n",
       "      "
      ]
     },
     "execution_count": 5,
     "metadata": {},
     "output_type": "execute_result"
    },
    {
     "data": {
      "text/plain": [
       "            _type : torch.CudaTensor\n",
       "                  gradWeight : CudaTensor - size: 256x256x3x3\n",
       "                  padW : 1\n",
       "                  bias : CudaTensor - size: 256\n",
       "                  padH : 1\n",
       "                  gradBias : CudaTensor - size: 256\n",
       "                }\n",
       "              26 : \n",
       "                nn.SpatialBatchNormalization\n",
       "                {\n",
       "                  gradBias : CudaTensor - size: 256\n",
       "                  output : CudaTensor - empty\n",
       "                  gradInput : CudaTensor - empty\n",
       "                  running_var : CudaTensor - size: 256\n",
       "                  momentum : 0.1\n",
       "                  gradWeight : CudaTensor - size: 256\n",
       "                  eps : 1e-05\n",
       "                  _type : torch.CudaTensor\n",
       "                  affine : true\n",
       "                  running_mean : CudaTensor - size: 256\n",
       "                  bias : CudaTensor - size: 256\n",
       "                  weight : CudaTensor - size: 256\n",
       "                  train : true\n",
       "                }\n",
       "              27 : \n",
       "                nn.ReLU\n",
       "   "
      ]
     },
     "execution_count": 5,
     "metadata": {},
     "output_type": "execute_result"
    },
    {
     "data": {
      "text/plain": [
       "             {\n",
       "                  inplace : false\n",
       "                  threshold : 0\n",
       "                  _type : torch.CudaTensor\n",
       "                  output : CudaTensor - empty\n",
       "                  gradInput : CudaTensor - empty\n",
       "                  val : 0\n",
       "                }\n",
       "              28 : \n",
       "                nn.SpatialConvolution(256 -> 128, 3x3, 1,1, 1,1)\n",
       "                {\n",
       "                  dH : 1\n",
       "                  dW : 1\n",
       "                  nInputPlane : 256\n",
       "                  output : CudaTensor - empty\n",
       "                  kH : 3\n",
       "                  gradInput : CudaTensor - empty\n",
       "                  kW : 3\n",
       "                  nOutputPlane : 128\n",
       "                  weight : CudaTensor - size: 128x256x3x3\n",
       "                  _type : torch.CudaTensor\n",
       "                  gradWeight : CudaTensor - size: 128x256x3x3\n",
       "                  padW : 1\n",
       "                  bias : CudaTensor - size: 128\n",
       "      "
      ]
     },
     "execution_count": 5,
     "metadata": {},
     "output_type": "execute_result"
    },
    {
     "data": {
      "text/plain": [
       "            padH : 1\n",
       "                  gradBias : CudaTensor - size: 128\n",
       "                }\n",
       "              29 : \n",
       "                nn.SpatialBatchNormalization\n",
       "                {\n",
       "                  gradBias : CudaTensor - size: 128\n",
       "                  output : CudaTensor - empty\n",
       "                  gradInput : CudaTensor - empty\n",
       "                  running_var : CudaTensor - size: 128\n",
       "                  momentum : 0.1\n",
       "                  gradWeight : CudaTensor - size: 128\n",
       "                  eps : 1e-05\n",
       "                  _type : torch.CudaTensor\n",
       "                  affine : true\n",
       "                  running_mean : CudaTensor - size: 128\n",
       "                  bias : CudaTensor - size: 128\n",
       "                  weight : CudaTensor - size: 128\n",
       "                  train : true\n",
       "                }\n",
       "              30 : \n",
       "                nn.ReLU\n",
       "                {\n",
       "                  inplace : false\n",
       "  "
      ]
     },
     "execution_count": 5,
     "metadata": {},
     "output_type": "execute_result"
    },
    {
     "data": {
      "text/plain": [
       "                threshold : 0\n",
       "                  _type : torch.CudaTensor\n",
       "                  output : CudaTensor - empty\n",
       "                  gradInput : CudaTensor - empty\n",
       "                  val : 0\n",
       "                }\n",
       "              31 : \n",
       "                nn.SpatialMaxUnpooling associated to nn.SpatialMaxPooling(2x2, 2,2)\n",
       "                {\n",
       "                  gradInput : CudaTensor - empty\n",
       "                  pooling : nn.SpatialMaxPooling(2x2, 2,2)\n",
       "                  _type : torch.CudaTensor\n",
       "                  output : CudaTensor - empty\n",
       "                }\n",
       "              32 : \n",
       "                nn.SpatialConvolution(128 -> 128, 3x3, 1,1, 1,1)\n",
       "                {\n",
       "                  dH : 1\n",
       "                  dW : 1\n",
       "                  nInputPlane : 128\n",
       "                  output : CudaTensor - empty\n",
       "                  kH : 3\n",
       "                  gradInput : CudaTensor - empty\n",
       "                  kW : 3\n",
       "         "
      ]
     },
     "execution_count": 5,
     "metadata": {},
     "output_type": "execute_result"
    },
    {
     "data": {
      "text/plain": [
       "         nOutputPlane : 128\n",
       "                  weight : CudaTensor - size: 128x128x3x3\n",
       "                  _type : torch.CudaTensor\n",
       "                  gradWeight : CudaTensor - size: 128x128x3x3\n",
       "                  padW : 1\n",
       "                  bias : CudaTensor - size: 128\n",
       "                  padH : 1\n",
       "                  gradBias : CudaTensor - size: 128\n",
       "                }\n",
       "              33 : \n",
       "                nn.SpatialBatchNormalization\n",
       "                {\n",
       "                  gradBias : CudaTensor - size: 128\n",
       "                  output : CudaTensor - empty\n",
       "                  gradInput : CudaTensor - empty\n",
       "                  running_var : CudaTensor - size: 128\n",
       "                  momentum : 0.1\n",
       "                  gradWeight : CudaTensor - size: 128\n",
       "                  eps : 1e-05\n",
       "                  _type : torch.CudaTensor\n",
       "                  affine : true\n",
       "                  running_mean : CudaTensor - size: 128\n",
       "                  bias : CudaTensor - size: 128\n",
       "   "
      ]
     },
     "execution_count": 5,
     "metadata": {},
     "output_type": "execute_result"
    },
    {
     "data": {
      "text/plain": [
       "               weight : CudaTensor - size: 128\n",
       "                  train : true\n",
       "                }\n",
       "              34 : \n",
       "                nn.ReLU\n",
       "                {\n",
       "                  inplace : false\n",
       "                  threshold : 0\n",
       "                  _type : torch.CudaTensor\n",
       "                  output : CudaTensor - empty\n",
       "                  gradInput : CudaTensor - empty\n",
       "                  val : 0\n",
       "                }\n",
       "              35 : \n",
       "                nn.SpatialConvolution(128 -> 64, 3x3, 1,1, 1,1)\n",
       "                {\n",
       "                  dH : 1\n",
       "                  dW : 1\n",
       "                  nInputPlane : 128\n",
       "                  output : CudaTensor - empty\n",
       "                  kH : 3\n",
       "                  gradInput : CudaTensor - empty\n",
       "                  kW : 3\n",
       "                  nOutputPlane : 64\n",
       "                  weight : CudaTensor - size: 64x128x3x3\n",
       "                 "
      ]
     },
     "execution_count": 5,
     "metadata": {},
     "output_type": "execute_result"
    },
    {
     "data": {
      "text/plain": [
       " _type : torch.CudaTensor\n",
       "                  gradWeight : CudaTensor - size: 64x128x3x3\n",
       "                  padW : 1\n",
       "                  bias : CudaTensor - size: 64\n",
       "                  padH : 1\n",
       "                  gradBias : CudaTensor - size: 64\n",
       "                }\n",
       "              36 : \n",
       "                nn.SpatialBatchNormalization\n",
       "                {\n",
       "                  gradBias : CudaTensor - size: 64\n",
       "                  output : CudaTensor - empty\n",
       "                  gradInput : CudaTensor - empty\n",
       "                  running_var : CudaTensor - size: 64\n",
       "                  momentum : 0.1\n",
       "                  gradWeight : CudaTensor - size: 64\n",
       "                  eps : 1e-05\n",
       "                  _type : torch.CudaTensor\n",
       "                  affine : true\n",
       "                  running_mean : CudaTensor - size: 64\n",
       "                  bias : CudaTensor - size: 64\n",
       "                  weight : CudaTensor - size: 64\n",
       "     "
      ]
     },
     "execution_count": 5,
     "metadata": {},
     "output_type": "execute_result"
    },
    {
     "data": {
      "text/plain": [
       "             train : true\n",
       "                }\n",
       "              37 : \n",
       "                nn.ReLU\n",
       "                {\n",
       "                  inplace : false\n",
       "                  threshold : 0\n",
       "                  _type : torch.CudaTensor\n",
       "                  output : CudaTensor - empty\n",
       "                  gradInput : CudaTensor - empty\n",
       "                  val : 0\n",
       "                }\n",
       "              38 : \n",
       "                nn.SpatialMaxUnpooling associated to nn.SpatialMaxPooling(2x2, 2,2)\n",
       "                {\n",
       "                  gradInput : CudaTensor - empty\n",
       "                  pooling : nn.SpatialMaxPooling(2x2, 2,2)\n",
       "                  _type : torch.CudaTensor\n",
       "                  output : CudaTensor - empty\n",
       "                }\n",
       "              39 : \n",
       "                nn.SpatialConvolution(64 -> 64, 3x3, 1,1, 1,1)\n",
       "                {\n",
       "                  dH : 1\n",
       "                  dW : 1\n"
      ]
     },
     "execution_count": 5,
     "metadata": {},
     "output_type": "execute_result"
    },
    {
     "data": {
      "text/plain": [
       "                  nInputPlane : 64\n",
       "                  output : CudaTensor - empty\n",
       "                  kH : 3\n",
       "                  gradInput : CudaTensor - empty\n",
       "                  kW : 3\n",
       "                  nOutputPlane : 64\n",
       "                  weight : CudaTensor - size: 64x64x3x3\n",
       "                  _type : torch.CudaTensor\n",
       "                  gradWeight : CudaTensor - size: 64x64x3x3\n",
       "                  padW : 1\n",
       "                  bias : CudaTensor - size: 64\n",
       "                  padH : 1\n",
       "                  gradBias : CudaTensor - size: 64\n",
       "                }\n",
       "              40 : \n",
       "                nn.SpatialBatchNormalization\n",
       "                {\n",
       "                  gradBias : CudaTensor - size: 64\n",
       "                  output : CudaTensor - empty\n",
       "                  gradInput : CudaTensor - empty\n",
       "                 "
      ]
     },
     "execution_count": 5,
     "metadata": {},
     "output_type": "execute_result"
    },
    {
     "data": {
      "text/plain": [
       " running_var : CudaTensor - size: 64\n",
       "                  momentum : 0.1\n",
       "                  gradWeight : CudaTensor - size: 64\n",
       "                  eps : 1e-05\n",
       "                  _type : torch.CudaTensor\n",
       "                  affine : true\n",
       "                  running_mean : CudaTensor - size: 64\n",
       "                  bias : CudaTensor - size: 64\n",
       "                  weight : CudaTensor - size: 64\n",
       "                  train : true\n",
       "                }\n",
       "              41 : \n",
       "                nn.ReLU\n",
       "                {\n",
       "                  inplace : false\n",
       "                  threshold : 0\n",
       "                  _type : torch.CudaTensor\n",
       "                  output : CudaTensor - empty\n",
       "                  gradInput : CudaTensor - empty\n",
       "                  val : 0\n",
       "                }\n",
       "              42 : \n"
      ]
     },
     "execution_count": 5,
     "metadata": {},
     "output_type": "execute_result"
    },
    {
     "data": {
      "text/plain": [
       "                nn.SpatialConvolution(64 -> 14, 3x3, 1,1, 1,1)\n",
       "                {\n",
       "                  dH : 1\n",
       "                  dW : 1\n",
       "                  nInputPlane : 64\n",
       "                  output : CudaTensor - empty\n",
       "                  kH : 3\n",
       "                  gradInput : CudaTensor - empty\n",
       "                  kW : 3\n",
       "                  nOutputPlane : 14\n",
       "                  weight : CudaTensor - size: 14x64x3x3\n",
       "                  _type : torch.CudaTensor\n",
       "                  gradWeight : CudaTensor - size: 14x64x3x3\n",
       "                  padW : 1\n",
       "                  bias : CudaTensor - size: 14\n",
       "                  padH : 1\n",
       "                  gradBias : CudaTensor - size: 14\n",
       "                }\n",
       "            }\n",
       "          _type : torch.CudaTensor\n",
       "          output : CudaTensor - empty\n",
       "        }\n",
       "    }\n",
       "  _type : torch.CudaTensor\n",
       "  output : CudaTensor - empty\n",
       "}\n"
      ]
     },
     "execution_count": 5,
     "metadata": {},
     "output_type": "execute_result"
    }
   ],
   "source": [
    "model"
   ]
  },
  {
   "cell_type": "code",
   "execution_count": 6,
   "metadata": {
    "collapsed": false
   },
   "outputs": [
    {
     "data": {
      "text/plain": [
       "cudnn.SpatialCrossEntropyCriterion\n",
       "{\n",
       "  sizeAverage : true\n",
       "  output : 0\n",
       "  gradInput : CudaTensor - empty\n",
       "  nll : \n",
       "    nn.ClassNLLCriterion\n",
       "    {\n",
       "      sizeAverage : true\n",
       "      output : 0\n",
       "      gradInput : CudaTensor - empty\n",
       "      output_tensor : CudaTensor - size: 1\n",
       "      target : CudaTensor - size: 1\n",
       "      total_weight_tensor : CudaTensor - size: 1\n",
       "    }\n",
       "  slsm : \n",
       "    cudnn.SpatialLogSoftMax\n",
       "    {\n",
       "      mode : CUDNN_SOFTMAX_MODE_CHANNEL\n",
       "      algorithm : CUDNN_SOFTMAX_LOG\n",
       "      output : CudaTensor - empty\n"
      ]
     },
     "execution_count": 6,
     "metadata": {},
     "output_type": "execute_result"
    },
    {
     "data": {
      "text/plain": [
       "      gradInput : CudaTensor - empty\n",
       "      _type : torch.CudaTensor\n",
       "    }\n",
       "}\n"
      ]
     },
     "execution_count": 6,
     "metadata": {},
     "output_type": "execute_result"
    }
   ],
   "source": [
    "criterion:cuda()"
   ]
  },
  {
   "cell_type": "code",
   "execution_count": 43,
   "metadata": {
    "collapsed": true
   },
   "outputs": [],
   "source": [
    "optimState = {learningRate = 0.001}\n",
    "trainer = Trainer(model, criterion, opt, optimState)"
   ]
  },
  {
   "cell_type": "code",
   "execution_count": 44,
   "metadata": {
    "collapsed": false
   },
   "outputs": [
    {
     "data": {
      "text/plain": [
       "train\t\n",
       "ok\t\n"
      ]
     },
     "execution_count": 44,
     "metadata": {},
     "output_type": "execute_result"
    },
    {
     "data": {
      "text/plain": [
       "val\t\n",
       "ok\t\n"
      ]
     },
     "execution_count": 44,
     "metadata": {},
     "output_type": "execute_result"
    },
    {
     "data": {
      "text/plain": [
       " | Epoch: [1][1/140]    Time 2.496  Data 1.152  Err 0.7260  top1   0.000  top5   0.000\t\n"
      ]
     },
     "execution_count": 44,
     "metadata": {},
     "output_type": "execute_result"
    },
    {
     "data": {
      "text/plain": [
       " | Epoch: [1][2/140]    Time 0.352  Data 0.001  Err 0.7434  top1   0.000  top5   0.000\t\n"
      ]
     },
     "execution_count": 44,
     "metadata": {},
     "output_type": "execute_result"
    },
    {
     "data": {
      "text/plain": [
       " | Epoch: [1][3/140]    Time 1.124  Data 0.001  Err 0.8458  top1   0.000  top5   0.000\t\n"
      ]
     },
     "execution_count": 44,
     "metadata": {},
     "output_type": "execute_result"
    },
    {
     "data": {
      "text/plain": [
       " | Epoch: [1][4/140]    Time 0.337  Data 0.003  Err 1.0556  top1   0.000  top5   0.000\t\n"
      ]
     },
     "execution_count": 44,
     "metadata": {},
     "output_type": "execute_result"
    },
    {
     "data": {
      "text/plain": [
       " | Epoch: [1][5/140]    Time 1.139  Data 0.001  Err 0.8318  top1   0.000  top5   0.000\t\n"
      ]
     },
     "execution_count": 44,
     "metadata": {},
     "output_type": "execute_result"
    },
    {
     "data": {
      "text/plain": [
       " | Epoch: [1][6/140]    Time 1.138  Data 0.000  Err 0.6666  top1   0.000  top5   0.000\t\n"
      ]
     },
     "execution_count": 44,
     "metadata": {},
     "output_type": "execute_result"
    },
    {
     "data": {
      "text/plain": [
       " | Epoch: [1][7/140]    Time 1.131  Data 0.001  Err 0.9777  top1   0.000  top5   0.000\t\n"
      ]
     },
     "execution_count": 44,
     "metadata": {},
     "output_type": "execute_result"
    },
    {
     "data": {
      "text/plain": [
       " | Epoch: [1][8/140]    Time 1.130  Data 0.001  Err 0.8714  top1   0.000  top5   0.000\t\n"
      ]
     },
     "execution_count": 44,
     "metadata": {},
     "output_type": "execute_result"
    },
    {
     "data": {
      "text/plain": [
       " | Epoch: [1][9/140]    Time 1.137  Data 0.000  Err 0.7839  top1   0.000  top5   0.000\t\n"
      ]
     },
     "execution_count": 44,
     "metadata": {},
     "output_type": "execute_result"
    },
    {
     "data": {
      "text/plain": [
       " | Epoch: [1][10/140]    Time 1.134  Data 0.000  Err 0.9812  top1   0.000  top5   0.000\t\n"
      ]
     },
     "execution_count": 44,
     "metadata": {},
     "output_type": "execute_result"
    },
    {
     "data": {
      "text/plain": [
       " | Epoch: [1][11/140]    Time 1.139  Data 0.001  Err 0.6410  top1   0.000  top5   0.000\t\n"
      ]
     },
     "execution_count": 44,
     "metadata": {},
     "output_type": "execute_result"
    },
    {
     "data": {
      "text/plain": [
       " | Epoch: [1][12/140]    Time 1.847  Data 0.001  Err 0.8032  top1   0.000  top5   0.000\t\n"
      ]
     },
     "execution_count": 44,
     "metadata": {},
     "output_type": "execute_result"
    },
    {
     "data": {
      "text/plain": [
       " | Epoch: [1][13/140]    Time 0.838  Data 0.001  Err 1.0286  top1   0.000  top5   0.000\t\n"
      ]
     },
     "execution_count": 44,
     "metadata": {},
     "output_type": "execute_result"
    },
    {
     "data": {
      "text/plain": [
       " | Epoch: [1][14/140]    Time 0.786  Data 0.001  Err 0.6342  top1   0.000  top5   0.000\t\n"
      ]
     },
     "execution_count": 44,
     "metadata": {},
     "output_type": "execute_result"
    },
    {
     "data": {
      "text/plain": [
       " | Epoch: [1][15/140]    Time 0.687  Data 0.001  Err 0.7911  top1   0.000  top5   0.000\t\n"
      ]
     },
     "execution_count": 44,
     "metadata": {},
     "output_type": "execute_result"
    },
    {
     "data": {
      "text/plain": [
       " | Epoch: [1][16/140]    Time 1.133  Data 0.000  Err 0.6944  top1   0.000  top5   0.000\t\n"
      ]
     },
     "execution_count": 44,
     "metadata": {},
     "output_type": "execute_result"
    },
    {
     "data": {
      "text/plain": [
       " | Epoch: [1][17/140]    Time 1.133  Data 0.000  Err 0.8160  top1   0.000  top5   0.000\t\n"
      ]
     },
     "execution_count": 44,
     "metadata": {},
     "output_type": "execute_result"
    },
    {
     "data": {
      "text/plain": [
       " | Epoch: [1][18/140]    Time 1.133  Data 0.000  Err 0.6641  top1   0.000  top5   0.000\t\n"
      ]
     },
     "execution_count": 44,
     "metadata": {},
     "output_type": "execute_result"
    },
    {
     "data": {
      "text/plain": [
       " | Epoch: [1][19/140]    Time 1.140  Data 0.001  Err 0.7934  top1   0.000  top5   0.000\t\n"
      ]
     },
     "execution_count": 44,
     "metadata": {},
     "output_type": "execute_result"
    },
    {
     "data": {
      "text/plain": [
       " | Epoch: [1][20/140]    Time 1.129  Data 0.001  Err 0.8391  top1   0.000  top5   0.000\t\n"
      ]
     },
     "execution_count": 44,
     "metadata": {},
     "output_type": "execute_result"
    },
    {
     "data": {
      "text/plain": [
       " | Epoch: [1][21/140]    Time 1.138  Data 0.000  Err 0.6541  top1   0.000  top5   0.000\t\n"
      ]
     },
     "execution_count": 44,
     "metadata": {},
     "output_type": "execute_result"
    },
    {
     "data": {
      "text/plain": [
       " | Epoch: [1][22/140]    Time 1.141  Data 0.000  Err 0.6730  top1   0.000  top5   0.000\t\n"
      ]
     },
     "execution_count": 44,
     "metadata": {},
     "output_type": "execute_result"
    },
    {
     "data": {
      "text/plain": [
       " | Epoch: [1][23/140]    Time 1.127  Data 0.001  Err 0.7584  top1   0.000  top5   0.000\t\n"
      ]
     },
     "execution_count": 44,
     "metadata": {},
     "output_type": "execute_result"
    },
    {
     "data": {
      "text/plain": [
       " | Epoch: [1][24/140]    Time 1.134  Data 0.000  Err 0.7611  top1   0.000  top5   0.000\t\n"
      ]
     },
     "execution_count": 44,
     "metadata": {},
     "output_type": "execute_result"
    },
    {
     "data": {
      "text/plain": [
       " | Epoch: [1][25/140]    Time 1.137  Data 0.001  Err 0.8053  top1   0.000  top5   0.000\t\n"
      ]
     },
     "execution_count": 44,
     "metadata": {},
     "output_type": "execute_result"
    },
    {
     "data": {
      "text/plain": [
       " | Epoch: [1][26/140]    Time 1.140  Data 0.001  Err 0.8969  top1   0.000  top5   0.000\t\n"
      ]
     },
     "execution_count": 44,
     "metadata": {},
     "output_type": "execute_result"
    },
    {
     "data": {
      "text/plain": [
       " | Epoch: [1][27/140]    Time 1.127  Data 0.001  Err 0.7872  top1   0.000  top5   0.000\t\n"
      ]
     },
     "execution_count": 44,
     "metadata": {},
     "output_type": "execute_result"
    },
    {
     "data": {
      "text/plain": [
       " | Epoch: [1][28/140]    Time 1.140  Data 0.001  Err 0.8315  top1   0.000  top5   0.000\t\n"
      ]
     },
     "execution_count": 44,
     "metadata": {},
     "output_type": "execute_result"
    },
    {
     "data": {
      "text/plain": [
       " | Epoch: [1][29/140]    Time 1.515  Data 0.005  Err 0.6869  top1   0.000  top5   0.000\t\n"
      ]
     },
     "execution_count": 44,
     "metadata": {},
     "output_type": "execute_result"
    },
    {
     "data": {
      "text/plain": [
       " | Epoch: [1][30/140]    Time 0.770  Data 0.000  Err 0.7436  top1   0.000  top5   0.000\t\n"
      ]
     },
     "execution_count": 44,
     "metadata": {},
     "output_type": "execute_result"
    },
    {
     "data": {
      "text/plain": [
       " | Epoch: [1][31/140]    Time 1.231  Data 0.001  Err 1.2743  top1   0.000  top5   0.000\t\n"
      ]
     },
     "execution_count": 44,
     "metadata": {},
     "output_type": "execute_result"
    },
    {
     "data": {
      "text/plain": [
       " | Epoch: [1][32/140]    Time 1.327  Data 0.001  Err 0.7210  top1   0.000  top5   0.000\t\n"
      ]
     },
     "execution_count": 44,
     "metadata": {},
     "output_type": "execute_result"
    },
    {
     "data": {
      "text/plain": [
       " | Epoch: [1][33/140]    Time 0.836  Data 0.001  Err 0.9104  top1   0.000  top5   0.000\t\n"
      ]
     },
     "execution_count": 44,
     "metadata": {},
     "output_type": "execute_result"
    },
    {
     "data": {
      "text/plain": [
       " | Epoch: [1][34/140]    Time 1.124  Data 0.001  Err 0.7016  top1   0.000  top5   0.000\t\n"
      ]
     },
     "execution_count": 44,
     "metadata": {},
     "output_type": "execute_result"
    },
    {
     "data": {
      "text/plain": [
       " | Epoch: [1][35/140]    Time 0.859  Data 0.001  Err 0.7825  top1   0.000  top5   0.000\t\n"
      ]
     },
     "execution_count": 44,
     "metadata": {},
     "output_type": "execute_result"
    },
    {
     "data": {
      "text/plain": [
       " | Epoch: [1][36/140]    Time 1.288  Data 0.001  Err 0.6133  top1   0.000  top5   0.000\t\n"
      ]
     },
     "execution_count": 44,
     "metadata": {},
     "output_type": "execute_result"
    },
    {
     "data": {
      "text/plain": [
       " | Epoch: [1][37/140]    Time 0.455  Data 0.001  Err 0.7910  top1   0.000  top5   0.000\t\n"
      ]
     },
     "execution_count": 44,
     "metadata": {},
     "output_type": "execute_result"
    },
    {
     "data": {
      "text/plain": [
       " | Epoch: [1][38/140]    Time 0.813  Data 0.005  Err 0.8361  top1   0.000  top5   0.000\t\n"
      ]
     },
     "execution_count": 44,
     "metadata": {},
     "output_type": "execute_result"
    },
    {
     "data": {
      "text/plain": [
       " | Epoch: [1][39/140]    Time 1.132  Data 0.000  Err 0.6841  top1   0.000  top5   0.000\t\n"
      ]
     },
     "execution_count": 44,
     "metadata": {},
     "output_type": "execute_result"
    },
    {
     "data": {
      "text/plain": [
       " | Epoch: [1][40/140]    Time 1.135  Data 0.000  Err 0.7734  top1   0.000  top5   0.000\t\n"
      ]
     },
     "execution_count": 44,
     "metadata": {},
     "output_type": "execute_result"
    },
    {
     "data": {
      "text/plain": [
       " | Epoch: [1][41/140]    Time 1.133  Data 0.000  Err 0.6808  top1   0.000  top5   0.000\t\n"
      ]
     },
     "execution_count": 44,
     "metadata": {},
     "output_type": "execute_result"
    },
    {
     "data": {
      "text/plain": [
       " | Epoch: [1][42/140]    Time 1.133  Data 0.001  Err 0.7316  top1   0.000  top5   0.000\t\n"
      ]
     },
     "execution_count": 44,
     "metadata": {},
     "output_type": "execute_result"
    },
    {
     "data": {
      "text/plain": [
       " | Epoch: [1][43/140]    Time 1.132  Data 0.000  Err 1.1322  top1   0.000  top5   0.000\t\n"
      ]
     },
     "execution_count": 44,
     "metadata": {},
     "output_type": "execute_result"
    },
    {
     "data": {
      "text/plain": [
       " | Epoch: [1][44/140]    Time 1.135  Data 0.000  Err 0.7492  top1   0.000  top5   0.000\t\n"
      ]
     },
     "execution_count": 44,
     "metadata": {},
     "output_type": "execute_result"
    },
    {
     "data": {
      "text/plain": [
       " | Epoch: [1][45/140]    Time 1.135  Data 0.000  Err 0.7332  top1   0.000  top5   0.000\t\n"
      ]
     },
     "execution_count": 44,
     "metadata": {},
     "output_type": "execute_result"
    },
    {
     "data": {
      "text/plain": [
       " | Epoch: [1][46/140]    Time 1.131  Data 0.001  Err 0.8221  top1   0.000  top5   0.000\t\n"
      ]
     },
     "execution_count": 44,
     "metadata": {},
     "output_type": "execute_result"
    },
    {
     "data": {
      "text/plain": [
       " | Epoch: [1][47/140]    Time 1.137  Data 0.001  Err 0.9082  top1   0.000  top5   0.000\t\n"
      ]
     },
     "execution_count": 44,
     "metadata": {},
     "output_type": "execute_result"
    },
    {
     "data": {
      "text/plain": [
       " | Epoch: [1][48/140]    Time 1.131  Data 0.000  Err 0.7990  top1   0.000  top5   0.000\t\n"
      ]
     },
     "execution_count": 44,
     "metadata": {},
     "output_type": "execute_result"
    },
    {
     "data": {
      "text/plain": [
       " | Epoch: [1][49/140]    Time 1.134  Data 0.001  Err 0.5770  top1   0.000  top5   0.000\t\n"
      ]
     },
     "execution_count": 44,
     "metadata": {},
     "output_type": "execute_result"
    },
    {
     "data": {
      "text/plain": [
       " | Epoch: [1][50/140]    Time 1.134  Data 0.001  Err 0.8400  top1   0.000  top5   0.000\t\n"
      ]
     },
     "execution_count": 44,
     "metadata": {},
     "output_type": "execute_result"
    },
    {
     "data": {
      "text/plain": [
       " | Epoch: [1][51/140]    Time 1.605  Data 0.001  Err 0.9479  top1   0.000  top5   0.000\t\n"
      ]
     },
     "execution_count": 44,
     "metadata": {},
     "output_type": "execute_result"
    },
    {
     "data": {
      "text/plain": [
       " | Epoch: [1][52/140]    Time 1.258  Data 0.001  Err 0.7560  top1   0.000  top5   0.000\t\n"
      ]
     },
     "execution_count": 44,
     "metadata": {},
     "output_type": "execute_result"
    },
    {
     "data": {
      "text/plain": [
       " | Epoch: [1][53/140]    Time 0.931  Data 0.001  Err 0.8164  top1   0.000  top5   0.000\t\n"
      ]
     },
     "execution_count": 44,
     "metadata": {},
     "output_type": "execute_result"
    },
    {
     "data": {
      "text/plain": [
       " | Epoch: [1][54/140]    Time 0.769  Data 0.001  Err 0.7683  top1   0.000  top5   0.000\t\n"
      ]
     },
     "execution_count": 44,
     "metadata": {},
     "output_type": "execute_result"
    },
    {
     "data": {
      "text/plain": [
       " | Epoch: [1][55/140]    Time 1.227  Data 0.001  Err 0.6929  top1   0.000  top5   0.000\t\n"
      ]
     },
     "execution_count": 44,
     "metadata": {},
     "output_type": "execute_result"
    },
    {
     "data": {
      "text/plain": [
       " | Epoch: [1][56/140]    Time 0.618  Data 0.002  Err 0.8959  top1   0.000  top5   0.000\t\n"
      ]
     },
     "execution_count": 44,
     "metadata": {},
     "output_type": "execute_result"
    },
    {
     "data": {
      "text/plain": [
       " | Epoch: [1][57/140]    Time 1.127  Data 0.001  Err 0.9357  top1   0.000  top5   0.000\t\n"
      ]
     },
     "execution_count": 44,
     "metadata": {},
     "output_type": "execute_result"
    },
    {
     "data": {
      "text/plain": [
       " | Epoch: [1][58/140]    Time 1.722  Data 0.001  Err 0.6316  top1   0.000  top5   0.000\t\n"
      ]
     },
     "execution_count": 44,
     "metadata": {},
     "output_type": "execute_result"
    },
    {
     "data": {
      "text/plain": [
       " | Epoch: [1][59/140]    Time 1.323  Data 0.001  Err 0.7822  top1   0.000  top5   0.000\t\n"
      ]
     },
     "execution_count": 44,
     "metadata": {},
     "output_type": "execute_result"
    },
    {
     "data": {
      "text/plain": [
       " | Epoch: [1][60/140]    Time 0.758  Data 0.001  Err 0.7987  top1   0.000  top5   0.000\t\n"
      ]
     },
     "execution_count": 44,
     "metadata": {},
     "output_type": "execute_result"
    },
    {
     "data": {
      "text/plain": [
       " | Epoch: [1][61/140]    Time 0.711  Data 0.379  Err 0.7169  top1   0.000  top5   0.000\t\n"
      ]
     },
     "execution_count": 44,
     "metadata": {},
     "output_type": "execute_result"
    },
    {
     "data": {
      "text/plain": [
       " | Epoch: [1][62/140]    Time 1.133  Data 0.001  Err 0.6303  top1   0.000  top5   0.000\t\n"
      ]
     },
     "execution_count": 44,
     "metadata": {},
     "output_type": "execute_result"
    },
    {
     "data": {
      "text/plain": [
       " | Epoch: [1][63/140]    Time 1.132  Data 0.001  Err 0.6517  top1   0.000  top5   0.000\t\n"
      ]
     },
     "execution_count": 44,
     "metadata": {},
     "output_type": "execute_result"
    },
    {
     "data": {
      "text/plain": [
       " | Epoch: [1][64/140]    Time 1.137  Data 0.001  Err 0.6592  top1   0.000  top5   0.000\t\n"
      ]
     },
     "execution_count": 44,
     "metadata": {},
     "output_type": "execute_result"
    },
    {
     "data": {
      "text/plain": [
       " | Epoch: [1][65/140]    Time 1.131  Data 0.001  Err 0.6724  top1   0.000  top5   0.000\t\n"
      ]
     },
     "execution_count": 44,
     "metadata": {},
     "output_type": "execute_result"
    },
    {
     "data": {
      "text/plain": [
       " | Epoch: [1][66/140]    Time 1.133  Data 0.000  Err 0.6789  top1   0.000  top5   0.000\t\n"
      ]
     },
     "execution_count": 44,
     "metadata": {},
     "output_type": "execute_result"
    },
    {
     "data": {
      "text/plain": [
       " | Epoch: [1][67/140]    Time 1.134  Data 0.000  Err 1.1929  top1   0.000  top5   0.000\t\n"
      ]
     },
     "execution_count": 44,
     "metadata": {},
     "output_type": "execute_result"
    },
    {
     "data": {
      "text/plain": [
       " | Epoch: [1][68/140]    Time 1.133  Data 0.001  Err 0.7026  top1   0.000  top5   0.000\t\n"
      ]
     },
     "execution_count": 44,
     "metadata": {},
     "output_type": "execute_result"
    },
    {
     "data": {
      "text/plain": [
       " | Epoch: [1][69/140]    Time 1.132  Data 0.000  Err 0.7440  top1   0.000  top5   0.000\t\n"
      ]
     },
     "execution_count": 44,
     "metadata": {},
     "output_type": "execute_result"
    },
    {
     "data": {
      "text/plain": [
       " | Epoch: [1][70/140]    Time 1.133  Data 0.000  Err 0.8091  top1   0.000  top5   0.000\t\n"
      ]
     },
     "execution_count": 44,
     "metadata": {},
     "output_type": "execute_result"
    },
    {
     "data": {
      "text/plain": [
       " | Epoch: [1][71/140]    Time 1.136  Data 0.000  Err 0.6833  top1   0.000  top5   0.000\t\n"
      ]
     },
     "execution_count": 44,
     "metadata": {},
     "output_type": "execute_result"
    },
    {
     "data": {
      "text/plain": [
       " | Epoch: [1][72/140]    Time 1.133  Data 0.000  Err 0.8881  top1   0.000  top5   0.000\t\n"
      ]
     },
     "execution_count": 44,
     "metadata": {},
     "output_type": "execute_result"
    },
    {
     "data": {
      "text/plain": [
       " | Epoch: [1][73/140]    Time 1.136  Data 0.001  Err 0.8458  top1   0.000  top5   0.000\t\n"
      ]
     },
     "execution_count": 44,
     "metadata": {},
     "output_type": "execute_result"
    },
    {
     "data": {
      "text/plain": [
       " | Epoch: [1][74/140]    Time 1.135  Data 0.001  Err 0.5653  top1   0.000  top5   0.000\t\n"
      ]
     },
     "execution_count": 44,
     "metadata": {},
     "output_type": "execute_result"
    },
    {
     "data": {
      "text/plain": [
       " | Epoch: [1][75/140]    Time 1.608  Data 0.803  Err 0.6847  top1   0.000  top5   0.000\t\n"
      ]
     },
     "execution_count": 44,
     "metadata": {},
     "output_type": "execute_result"
    },
    {
     "data": {
      "text/plain": [
       " | Epoch: [1][76/140]    Time 1.234  Data 0.001  Err 0.9745  top1   0.000  top5   0.000\t\n"
      ]
     },
     "execution_count": 44,
     "metadata": {},
     "output_type": "execute_result"
    },
    {
     "data": {
      "text/plain": [
       " | Epoch: [1][77/140]    Time 1.378  Data 0.001  Err 0.7409  top1   0.000  top5   0.000\t\n"
      ]
     },
     "execution_count": 44,
     "metadata": {},
     "output_type": "execute_result"
    },
    {
     "data": {
      "text/plain": [
       " | Epoch: [1][78/140]    Time 0.783  Data 0.001  Err 0.7501  top1   0.000  top5   0.000\t\n"
      ]
     },
     "execution_count": 44,
     "metadata": {},
     "output_type": "execute_result"
    },
    {
     "data": {
      "text/plain": [
       " | Epoch: [1][79/140]    Time 1.204  Data 0.378  Err 1.0474  top1   0.000  top5   0.000\t\n"
      ]
     },
     "execution_count": 44,
     "metadata": {},
     "output_type": "execute_result"
    },
    {
     "data": {
      "text/plain": [
       " | Epoch: [1][80/140]    Time 1.223  Data 0.001  Err 0.8731  top1   0.000  top5   0.000\t\n"
      ]
     },
     "execution_count": 44,
     "metadata": {},
     "output_type": "execute_result"
    },
    {
     "data": {
      "text/plain": [
       " | Epoch: [1][81/140]    Time 0.535  Data 0.001  Err 0.6353  top1   0.000  top5   0.000\t\n"
      ]
     },
     "execution_count": 44,
     "metadata": {},
     "output_type": "execute_result"
    },
    {
     "data": {
      "text/plain": [
       " | Epoch: [1][82/140]    Time 0.965  Data 0.001  Err 1.1482  top1   0.000  top5   0.000\t\n"
      ]
     },
     "execution_count": 44,
     "metadata": {},
     "output_type": "execute_result"
    },
    {
     "data": {
      "text/plain": [
       " | Epoch: [1][83/140]    Time 1.135  Data 0.000  Err 1.0154  top1   0.000  top5   0.000\t\n"
      ]
     },
     "execution_count": 44,
     "metadata": {},
     "output_type": "execute_result"
    },
    {
     "data": {
      "text/plain": [
       " | Epoch: [1][84/140]    Time 1.134  Data 0.001  Err 0.7291  top1   0.000  top5   0.000\t\n"
      ]
     },
     "execution_count": 44,
     "metadata": {},
     "output_type": "execute_result"
    },
    {
     "data": {
      "text/plain": [
       " | Epoch: [1][85/140]    Time 1.133  Data 0.000  Err 0.7337  top1   0.000  top5   0.000\t\n"
      ]
     },
     "execution_count": 44,
     "metadata": {},
     "output_type": "execute_result"
    },
    {
     "data": {
      "text/plain": [
       " | Epoch: [1][86/140]    Time 1.135  Data 0.001  Err 0.9366  top1   0.000  top5   0.000\t\n"
      ]
     },
     "execution_count": 44,
     "metadata": {},
     "output_type": "execute_result"
    },
    {
     "data": {
      "text/plain": [
       " | Epoch: [1][87/140]    Time 1.135  Data 0.000  Err 0.8360  top1   0.000  top5   0.000\t\n"
      ]
     },
     "execution_count": 44,
     "metadata": {},
     "output_type": "execute_result"
    },
    {
     "data": {
      "text/plain": [
       " | Epoch: [1][88/140]    Time 1.132  Data 0.001  Err 0.7784  top1   0.000  top5   0.000\t\n"
      ]
     },
     "execution_count": 44,
     "metadata": {},
     "output_type": "execute_result"
    },
    {
     "data": {
      "text/plain": [
       " | Epoch: [1][89/140]    Time 1.132  Data 0.000  Err 0.6235  top1   0.000  top5   0.000\t\n"
      ]
     },
     "execution_count": 44,
     "metadata": {},
     "output_type": "execute_result"
    },
    {
     "data": {
      "text/plain": [
       " | Epoch: [1][90/140]    Time 1.135  Data 0.001  Err 1.0107  top1   0.000  top5   0.000\t\n"
      ]
     },
     "execution_count": 44,
     "metadata": {},
     "output_type": "execute_result"
    },
    {
     "data": {
      "text/plain": [
       " | Epoch: [1][91/140]    Time 1.132  Data 0.001  Err 0.7995  top1   0.000  top5   0.000\t\n"
      ]
     },
     "execution_count": 44,
     "metadata": {},
     "output_type": "execute_result"
    },
    {
     "data": {
      "text/plain": [
       " | Epoch: [1][92/140]    Time 1.132  Data 0.000  Err 0.8599  top1   0.000  top5   0.000\t\n"
      ]
     },
     "execution_count": 44,
     "metadata": {},
     "output_type": "execute_result"
    },
    {
     "data": {
      "text/plain": [
       " | Epoch: [1][93/140]    Time 1.134  Data 0.000  Err 0.7008  top1   0.000  top5   0.000\t\n"
      ]
     },
     "execution_count": 44,
     "metadata": {},
     "output_type": "execute_result"
    },
    {
     "data": {
      "text/plain": [
       " | Epoch: [1][94/140]    Time 1.134  Data 0.000  Err 0.6708  top1   0.000  top5   0.000\t\n"
      ]
     },
     "execution_count": 44,
     "metadata": {},
     "output_type": "execute_result"
    },
    {
     "data": {
      "text/plain": [
       " | Epoch: [1][95/140]    Time 1.133  Data 0.001  Err 0.7690  top1   0.000  top5   0.000\t\n"
      ]
     },
     "execution_count": 44,
     "metadata": {},
     "output_type": "execute_result"
    },
    {
     "data": {
      "text/plain": [
       " | Epoch: [1][96/140]    Time 1.134  Data 0.001  Err 0.8604  top1   0.000  top5   0.000\t\n"
      ]
     },
     "execution_count": 44,
     "metadata": {},
     "output_type": "execute_result"
    },
    {
     "data": {
      "text/plain": [
       " | Epoch: [1][97/140]    Time 1.136  Data 0.001  Err 0.7277  top1   0.000  top5   0.000\t\n"
      ]
     },
     "execution_count": 44,
     "metadata": {},
     "output_type": "execute_result"
    },
    {
     "data": {
      "text/plain": [
       " | Epoch: [1][98/140]    Time 0.759  Data 0.001  Err 0.6235  top1   0.000  top5   0.000\t\n"
      ]
     },
     "execution_count": 44,
     "metadata": {},
     "output_type": "execute_result"
    },
    {
     "data": {
      "text/plain": [
       " | Epoch: [1][99/140]    Time 1.203  Data 0.379  Err 0.6388  top1   0.000  top5   0.000\t\n"
      ]
     },
     "execution_count": 44,
     "metadata": {},
     "output_type": "execute_result"
    },
    {
     "data": {
      "text/plain": [
       " | Epoch: [1][100/140]    Time 1.282  Data 0.001  Err 0.6576  top1   0.000  top5   0.000\t\n"
      ]
     },
     "execution_count": 44,
     "metadata": {},
     "output_type": "execute_result"
    },
    {
     "data": {
      "text/plain": [
       " | Epoch: [1][101/140]    Time 0.899  Data 0.001  Err 0.7736  top1   0.000  top5   0.000\t\n"
      ]
     },
     "execution_count": 44,
     "metadata": {},
     "output_type": "execute_result"
    },
    {
     "data": {
      "text/plain": [
       " | Epoch: [1][102/140]    Time 0.337  Data 0.001  Err 0.6939  top1   0.000  top5   0.000\t\n"
      ]
     },
     "execution_count": 44,
     "metadata": {},
     "output_type": "execute_result"
    },
    {
     "data": {
      "text/plain": [
       " | Epoch: [1][103/140]    Time 1.836  Data 0.001  Err 0.7185  top1   0.000  top5   0.000\t\n"
      ]
     },
     "execution_count": 44,
     "metadata": {},
     "output_type": "execute_result"
    },
    {
     "data": {
      "text/plain": [
       " | Epoch: [1][104/140]    Time 0.771  Data 0.001  Err 0.7861  top1   0.000  top5   0.000\t\n"
      ]
     },
     "execution_count": 44,
     "metadata": {},
     "output_type": "execute_result"
    },
    {
     "data": {
      "text/plain": [
       " | Epoch: [1][105/140]    Time 0.780  Data 0.001  Err 1.2081  top1   0.000  top5   0.000\t\n"
      ]
     },
     "execution_count": 44,
     "metadata": {},
     "output_type": "execute_result"
    },
    {
     "data": {
      "text/plain": [
       " | Epoch: [1][106/140]    Time 1.228  Data 0.001  Err 0.7796  top1   0.000  top5   0.000\t\n"
      ]
     },
     "execution_count": 44,
     "metadata": {},
     "output_type": "execute_result"
    },
    {
     "data": {
      "text/plain": [
       " | Epoch: [1][107/140]    Time 0.590  Data 0.001  Err 1.0166  top1   0.000  top5   0.000\t\n"
      ]
     },
     "execution_count": 44,
     "metadata": {},
     "output_type": "execute_result"
    },
    {
     "data": {
      "text/plain": [
       " | Epoch: [1][108/140]    Time 1.136  Data 0.000  Err 0.7131  top1   0.000  top5   0.000\t\n"
      ]
     },
     "execution_count": 44,
     "metadata": {},
     "output_type": "execute_result"
    },
    {
     "data": {
      "text/plain": [
       " | Epoch: [1][109/140]    Time 1.132  Data 0.000  Err 0.8800  top1   0.000  top5   0.000\t\n"
      ]
     },
     "execution_count": 44,
     "metadata": {},
     "output_type": "execute_result"
    },
    {
     "data": {
      "text/plain": [
       " | Epoch: [1][110/140]    Time 1.132  Data 0.000  Err 0.6586  top1   0.000  top5   0.000\t\n"
      ]
     },
     "execution_count": 44,
     "metadata": {},
     "output_type": "execute_result"
    },
    {
     "data": {
      "text/plain": [
       " | Epoch: [1][111/140]    Time 1.152  Data 0.000  Err 0.6918  top1   0.000  top5   0.000\t\n"
      ]
     },
     "execution_count": 44,
     "metadata": {},
     "output_type": "execute_result"
    },
    {
     "data": {
      "text/plain": [
       " | Epoch: [1][112/140]    Time 1.117  Data 0.001  Err 0.8285  top1   0.000  top5   0.000\t\n"
      ]
     },
     "execution_count": 44,
     "metadata": {},
     "output_type": "execute_result"
    },
    {
     "data": {
      "text/plain": [
       " | Epoch: [1][113/140]    Time 1.136  Data 0.000  Err 0.7151  top1   0.000  top5   0.000\t\n"
      ]
     },
     "execution_count": 44,
     "metadata": {},
     "output_type": "execute_result"
    },
    {
     "data": {
      "text/plain": [
       " | Epoch: [1][114/140]    Time 1.130  Data 0.001  Err 0.8046  top1   0.000  top5   0.000\t\n"
      ]
     },
     "execution_count": 44,
     "metadata": {},
     "output_type": "execute_result"
    },
    {
     "data": {
      "text/plain": [
       " | Epoch: [1][115/140]    Time 1.132  Data 0.000  Err 0.7492  top1   0.000  top5   0.000\t\n"
      ]
     },
     "execution_count": 44,
     "metadata": {},
     "output_type": "execute_result"
    },
    {
     "data": {
      "text/plain": [
       " | Epoch: [1][116/140]    Time 1.131  Data 0.000  Err 1.1975  top1   0.000  top5   0.000\t\n"
      ]
     },
     "execution_count": 44,
     "metadata": {},
     "output_type": "execute_result"
    },
    {
     "data": {
      "text/plain": [
       " | Epoch: [1][117/140]    Time 1.135  Data 0.000  Err 0.8313  top1   0.000  top5   0.000\t\n"
      ]
     },
     "execution_count": 44,
     "metadata": {},
     "output_type": "execute_result"
    },
    {
     "data": {
      "text/plain": [
       " | Epoch: [1][118/140]    Time 1.133  Data 0.000  Err 0.8408  top1   0.000  top5   0.000\t\n"
      ]
     },
     "execution_count": 44,
     "metadata": {},
     "output_type": "execute_result"
    },
    {
     "data": {
      "text/plain": [
       " | Epoch: [1][119/140]    Time 1.133  Data 0.001  Err 0.7139  top1   0.000  top5   0.000\t\n"
      ]
     },
     "execution_count": 44,
     "metadata": {},
     "output_type": "execute_result"
    },
    {
     "data": {
      "text/plain": [
       " | Epoch: [1][120/140]    Time 1.137  Data 0.001  Err 0.7388  top1   0.000  top5   0.000\t\n"
      ]
     },
     "execution_count": 44,
     "metadata": {},
     "output_type": "execute_result"
    },
    {
     "data": {
      "text/plain": [
       " | Epoch: [1][121/140]    Time 1.513  Data 0.001  Err 0.6628  top1   0.000  top5   0.000\t\n"
      ]
     },
     "execution_count": 44,
     "metadata": {},
     "output_type": "execute_result"
    },
    {
     "data": {
      "text/plain": [
       " | Epoch: [1][122/140]    Time 0.763  Data 0.001  Err 0.8545  top1   0.000  top5   0.000\t\n"
      ]
     },
     "execution_count": 44,
     "metadata": {},
     "output_type": "execute_result"
    },
    {
     "data": {
      "text/plain": [
       " | Epoch: [1][123/140]    Time 1.215  Data 0.375  Err 0.8270  top1   0.000  top5   0.000\t\n"
      ]
     },
     "execution_count": 44,
     "metadata": {},
     "output_type": "execute_result"
    },
    {
     "data": {
      "text/plain": [
       " | Epoch: [1][124/140]    Time 1.310  Data 0.001  Err 0.8802  top1   0.000  top5   0.000\t\n"
      ]
     },
     "execution_count": 44,
     "metadata": {},
     "output_type": "execute_result"
    },
    {
     "data": {
      "text/plain": [
       " | Epoch: [1][125/140]    Time 0.868  Data 0.001  Err 0.7166  top1   0.000  top5   0.000\t\n"
      ]
     },
     "execution_count": 44,
     "metadata": {},
     "output_type": "execute_result"
    },
    {
     "data": {
      "text/plain": [
       " | Epoch: [1][126/140]    Time 0.881  Data 0.001  Err 0.6901  top1   0.000  top5   0.000\t\n"
      ]
     },
     "execution_count": 44,
     "metadata": {},
     "output_type": "execute_result"
    },
    {
     "data": {
      "text/plain": [
       " | Epoch: [1][127/140]    Time 1.090  Data 0.263  Err 0.9862  top1   0.000  top5   0.000\t\n"
      ]
     },
     "execution_count": 44,
     "metadata": {},
     "output_type": "execute_result"
    },
    {
     "data": {
      "text/plain": [
       " | Epoch: [1][128/140]    Time 0.636  Data 0.001  Err 0.6252  top1   0.000  top5   0.000\t\n"
      ]
     },
     "execution_count": 44,
     "metadata": {},
     "output_type": "execute_result"
    },
    {
     "data": {
      "text/plain": [
       " | Epoch: [1][129/140]    Time 1.134  Data 0.000  Err 0.7355  top1   0.000  top5   0.000\t\n"
      ]
     },
     "execution_count": 44,
     "metadata": {},
     "output_type": "execute_result"
    },
    {
     "data": {
      "text/plain": [
       " | Epoch: [1][130/140]    Time 1.134  Data 0.000  Err 0.8303  top1   0.000  top5   0.000\t\n"
      ]
     },
     "execution_count": 44,
     "metadata": {},
     "output_type": "execute_result"
    },
    {
     "data": {
      "text/plain": [
       " | Epoch: [1][131/140]    Time 1.133  Data 0.000  Err 0.8969  top1   0.000  top5   0.000\t\n"
      ]
     },
     "execution_count": 44,
     "metadata": {},
     "output_type": "execute_result"
    },
    {
     "data": {
      "text/plain": [
       " | Epoch: [1][132/140]    Time 1.133  Data 0.000  Err 1.0738  top1   0.000  top5   0.000\t\n"
      ]
     },
     "execution_count": 44,
     "metadata": {},
     "output_type": "execute_result"
    },
    {
     "data": {
      "text/plain": [
       " | Epoch: [1][133/140]    Time 1.146  Data 0.000  Err 0.7470  top1   0.000  top5   0.000\t\n"
      ]
     },
     "execution_count": 44,
     "metadata": {},
     "output_type": "execute_result"
    },
    {
     "data": {
      "text/plain": [
       " | Epoch: [1][134/140]    Time 1.126  Data 0.000  Err 1.5639  top1   0.000  top5   0.000\t\n"
      ]
     },
     "execution_count": 44,
     "metadata": {},
     "output_type": "execute_result"
    },
    {
     "data": {
      "text/plain": [
       " | Epoch: [1][135/140]    Time 1.134  Data 0.000  Err 1.0059  top1   0.000  top5   0.000\t\n"
      ]
     },
     "execution_count": 44,
     "metadata": {},
     "output_type": "execute_result"
    },
    {
     "data": {
      "text/plain": [
       " | Epoch: [1][136/140]    Time 1.126  Data 0.000  Err 0.8910  top1   0.000  top5   0.000\t\n"
      ]
     },
     "execution_count": 44,
     "metadata": {},
     "output_type": "execute_result"
    },
    {
     "data": {
      "text/plain": [
       " | Epoch: [1][137/140]    Time 1.134  Data 0.000  Err 0.7944  top1   0.000  top5   0.000\t\n"
      ]
     },
     "execution_count": 44,
     "metadata": {},
     "output_type": "execute_result"
    },
    {
     "data": {
      "text/plain": [
       " | Epoch: [1][138/140]    Time 1.135  Data 0.000  Err 0.8234  top1   0.000  top5   0.000\t\n"
      ]
     },
     "execution_count": 44,
     "metadata": {},
     "output_type": "execute_result"
    },
    {
     "data": {
      "text/plain": [
       " | Epoch: [1][139/140]    Time 1.134  Data 0.000  Err 0.8084  top1   0.000  top5   0.000\t\n"
      ]
     },
     "execution_count": 44,
     "metadata": {},
     "output_type": "execute_result"
    },
    {
     "data": {
      "text/plain": [
       " | Epoch: [1][140/140]    Time 1.135  Data 0.000  Err 0.9636  top1   0.000  top5   0.000\t\n",
       "159.85345005989\t\n"
      ]
     },
     "execution_count": 44,
     "metadata": {},
     "output_type": "execute_result"
    }
   ],
   "source": [
    "trainLoader, valLoader = DataLoader.create(opt)\n",
    "dataloader = trainLoader\n",
    "\n",
    "for epoch = 1,1 do\n",
    "    tic = torch.tic()\n",
    "    timer = torch.Timer()\n",
    "    dataTimer = torch.Timer()\n",
    "\n",
    "    function feval()\n",
    "      return trainer.criterion.output, trainer.gradParams\n",
    "    end\n",
    "\n",
    "    trainSize = dataloader:size()\n",
    "    top1Sum, top5Sum, lossSum = 0.0, 0.0, 0.0\n",
    "    N = 0\n",
    "\n",
    "    -- set the batch norm to training mode\n",
    "    model:training()\n",
    "    for n, sample in dataloader:run() do\n",
    "      dataTime = dataTimer:time().real\n",
    "\n",
    "      -- Copy input and target to the GPU\n",
    "      trainer:copyInputs(sample)\n",
    "      trainer.target = trainer.target:squeeze(2)\n",
    "\n",
    "      output = model:forward(trainer.input)\n",
    "       loss = criterion:forward(model.output, trainer.target)\n",
    "\n",
    "      model:zeroGradParameters()\n",
    "      criterion:backward(model.output, trainer.target)\n",
    "      model:backward(trainer.input, criterion.gradInput)\n",
    "\n",
    "      optim.adam(feval, trainer.params, optimState)\n",
    "\n",
    "      top1, top5 = 0, 0 --trainer:computeScore(output, sample.target, 1)\n",
    "      N = N + 1\n",
    "\n",
    "      print((' | Epoch: [%d][%d/%d]    Time %.3f  Data %.3f  Err %1.4f  top1 %7.3f  top5 %7.3f'):format(\n",
    "         epoch, n, trainSize, timer:time().real, dataTime, loss, top1, top5))\n",
    "\n",
    "      -- check that the storage didn't get changed do to an unfortunate getParameters call\n",
    "      assert(trainer.params:storage() == model:parameters()[1]:storage())\n",
    "\n",
    "      timer:reset()\n",
    "      dataTimer:reset()\n",
    "    end\n",
    "    print(torch.toc(tic))\n",
    "end"
   ]
  },
  {
   "cell_type": "code",
   "execution_count": 17,
   "metadata": {
    "collapsed": false
   },
   "outputs": [
    {
     "data": {
      "text/plain": [
       "   2\n",
       "  14\n",
       " 240\n",
       " 320\n",
       "[torch.LongStorage of size 4]\n",
       "\n"
      ]
     },
     "execution_count": 17,
     "metadata": {},
     "output_type": "execute_result"
    }
   ],
   "source": [
    "model.output:size()"
   ]
  },
  {
   "cell_type": "code",
   "execution_count": 45,
   "metadata": {
    "collapsed": true
   },
   "outputs": [],
   "source": [
    "idxs, maxs = torch.max(model.output, 2)"
   ]
  },
  {
   "cell_type": "code",
   "execution_count": 55,
   "metadata": {
    "collapsed": false
   },
   "outputs": [
    {
     "data": {
      "image/png": "[encoded data removed]",
      "text/plain": [
       "Console does not support images"
      ]
     },
     "metadata": {
      "image/png": {
       "height": 242,
       "width": 1288
      }
     },
     "output_type": "display_data"
    },
    {
     "data": {
      "image/png": "[encoded data removed]",
      "text/plain": [
       "Console does not support images"
      ]
     },
     "metadata": {
      "image/png": {
       "height": 242,
       "width": 1288
      }
     },
     "output_type": "display_data"
    }
   ],
   "source": [
    "itorch.image(maxs)\n",
    "itorch.image(trainer.target)"
   ]
  },
  {
   "cell_type": "code",
   "execution_count": null,
   "metadata": {
    "collapsed": true
   },
   "outputs": [],
   "source": []
  }
 ],
 "metadata": {
  "kernelspec": {
   "display_name": "iTorch",
   "language": "lua",
   "name": "itorch"
  },
  "language_info": {
   "name": "lua",
   "version": "5.1"
  }
 },
 "nbformat": 4,
 "nbformat_minor": 0
}
